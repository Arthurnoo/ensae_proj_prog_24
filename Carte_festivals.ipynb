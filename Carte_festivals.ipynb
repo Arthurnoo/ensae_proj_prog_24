import folium
import pandas as pd
import webbrowser
from folium import Marker

# Partie 1 : Charger les données des festivals
# Assurez-vous d'avoir un fichier CSV "top_50_festivals.csv" dans votre dossier de travail
try:
    festivals_file = "top_50_festivals.csv"
    df = pd.read_csv(festivals_file)
    print(f"Données chargées depuis {festivals_file} :")
    print(df.head())
except FileNotFoundError:
    print(f"Le fichier {festivals_file} est introuvable. Assurez-vous qu'il est présent dans le répertoire.")
    exit()

# Partie 2 : Traiter les données
# Nettoyage des colonnes "Lieu" pour enlever les \n et les numéros
if "Lieu" in df.columns:
    df["Lieu"] = df["Lieu"].str.split("\\n").str[0]

# Ajouter des coordonnées fictives pour l'exemple si elles ne sont pas présentes
if "Latitude" not in df.columns or "Longitude" not in df.columns:
    print("Aucune colonne de latitude/longitude trouvée. Ajout de coordonnées fictives pour l'exemple.")
    df["Latitude"] = [48.8566, 45.75, 43.6, 48.5734, 43.2965] + [46.603354] * (len(df) - 5)  # Exemple : coordonnées générées
    df["Longitude"] = [2.3522, 4.85, 1.433, 7.7521, 5.3698] + [1.888334] * (len(df) - 5)

# Partie 3 : Générer une carte interactive avec Folium
# Initialisation de la carte centrée sur la France
map_festivals = folium.Map(location=[46.603354, 1.888334], zoom_start=6)

# Ajouter les festivals sur la carte
for i, row in df.iterrows():
    if pd.notnull(row["Latitude"]) and pd.notnull(row["Longitude"]):
        Marker(
            location=[row["Latitude"], row["Longitude"]],
            popup=f"<b>{row['Nom']}</b><br>{row['Lieu']}",
            icon=folium.Icon(color="blue", icon="info-sign")
        ).add_to(map_festivals)

# Partie 4 : Sauvegarder la carte
map_file = "map_top_50_festivals.html"
map_festivals.save(map_file)
print(f"Carte sauvegardée sous '{map_file}'")

# Partie 5 : Afficher la carte automatiquement
webbrowser.open(map_file)
