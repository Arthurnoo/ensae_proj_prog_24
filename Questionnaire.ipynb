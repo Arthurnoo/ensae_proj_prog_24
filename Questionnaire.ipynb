{
 "cells": [
  {
   "cell_type": "markdown",
   "metadata": {},
   "source": [
    "# Création du questionnaire utilisateur\n",
    "\n",
    "### <u>1. Première version : Questionnaire simple</u>\n",
    "\n",
    "**On initialise au début un dictionnaire pour stocker les réponses**"
   ]
  },
  {
   "cell_type": "code",
   "execution_count": 1,
   "metadata": {},
   "outputs": [],
   "source": [
    "reponses = {}"
   ]
  },
  {
   "cell_type": "markdown",
   "metadata": {},
   "source": [
    "**Liste des questions**"
   ]
  },
  {
   "cell_type": "code",
   "execution_count": 2,
   "metadata": {},
   "outputs": [],
   "source": [
    "questions = [\n",
    "    \"Quel est votre nom ?\",\n",
    "    \"Quel est votre email ?\",\n",
    "    \"Quel type de festival préférez-vous (Musique, Cinéma, Art, Sport, Gastronomie) ?\",\n",
    "    \"Quel est votre budget (en euros) ?\",\n",
    "    \"Préférez-vous une région spécifique (Paris, Lyon, Marseille, Bordeaux, N'importe où) ?\"\n",
    "]"
   ]
  },
  {
   "cell_type": "markdown",
   "metadata": {},
   "source": [
    "**Poser les questions et récupérer les réponses**"
   ]
  },
  {
   "cell_type": "code",
   "execution_count": 3,
   "metadata": {},
   "outputs": [],
   "source": [
    "for question in questions:\n",
    "    reponse = input(question + \" \")\n",
    "    reponses[question] = reponse  # Enregistrer la réponse avec la question comme clé"
   ]
  },
  {
   "cell_type": "markdown",
   "metadata": {},
   "source": [
    "**Afficher le dictionnaire des réponses**"
   ]
  },
  {
   "cell_type": "code",
   "execution_count": 4,
   "metadata": {},
   "outputs": [
    {
     "name": "stdout",
     "output_type": "stream",
     "text": [
      "\n",
      "Merci pour vos réponses ! Voici ce que vous avez indiqué :\n",
      "\n",
      "Quel est votre nom ? : Arthur neau\n",
      "Quel est votre email ? : neau.arthur@sfr.fr\n",
      "Quel type de festival préférez-vous (Musique, Cinéma, Art, Sport, Gastronomie) ? : Musique\n",
      "Quel est votre budget (en euros) ? : 100€\n",
      "Préférez-vous une région spécifique (Paris, Lyon, Marseille, Bordeaux, N'importe où) ? : Paris\n"
     ]
    }
   ],
   "source": [
    "print(\"\\nMerci pour vos réponses ! Voici ce que vous avez indiqué :\\n\")\n",
    "for question, reponse in reponses.items():\n",
    "    print(f\"{question} : {reponse}\")"
   ]
  },
  {
   "cell_type": "markdown",
   "metadata": {},
   "source": [
    "### <u>2. Deuxième version : Questionnaire avec liste déroulante</u>\n",
    "\n",
    "**Besoin d'utiliser la bibliothèque ipywidgets**"
   ]
  },
  {
   "cell_type": "code",
   "execution_count": 1,
   "metadata": {},
   "outputs": [
    {
     "name": "stdout",
     "output_type": "stream",
     "text": [
      "Requirement already satisfied: ipywidgets in /opt/conda/lib/python3.12/site-packages (8.1.5)\n",
      "Requirement already satisfied: comm>=0.1.3 in /opt/conda/lib/python3.12/site-packages (from ipywidgets) (0.2.2)\n",
      "Requirement already satisfied: ipython>=6.1.0 in /opt/conda/lib/python3.12/site-packages (from ipywidgets) (8.29.0)\n",
      "Requirement already satisfied: traitlets>=4.3.1 in /opt/conda/lib/python3.12/site-packages (from ipywidgets) (5.14.3)\n",
      "Requirement already satisfied: widgetsnbextension~=4.0.12 in /opt/conda/lib/python3.12/site-packages (from ipywidgets) (4.0.13)\n",
      "Requirement already satisfied: jupyterlab-widgets~=3.0.12 in /opt/conda/lib/python3.12/site-packages (from ipywidgets) (3.0.13)\n",
      "Requirement already satisfied: decorator in /opt/conda/lib/python3.12/site-packages (from ipython>=6.1.0->ipywidgets) (5.1.1)\n",
      "Requirement already satisfied: jedi>=0.16 in /opt/conda/lib/python3.12/site-packages (from ipython>=6.1.0->ipywidgets) (0.19.2)\n",
      "Requirement already satisfied: matplotlib-inline in /opt/conda/lib/python3.12/site-packages (from ipython>=6.1.0->ipywidgets) (0.1.7)\n",
      "Requirement already satisfied: prompt-toolkit<3.1.0,>=3.0.41 in /opt/conda/lib/python3.12/site-packages (from ipython>=6.1.0->ipywidgets) (3.0.48)\n",
      "Requirement already satisfied: pygments>=2.4.0 in /opt/conda/lib/python3.12/site-packages (from ipython>=6.1.0->ipywidgets) (2.18.0)\n",
      "Requirement already satisfied: stack-data in /opt/conda/lib/python3.12/site-packages (from ipython>=6.1.0->ipywidgets) (0.6.2)\n",
      "Requirement already satisfied: pexpect>4.3 in /opt/conda/lib/python3.12/site-packages (from ipython>=6.1.0->ipywidgets) (4.9.0)\n",
      "Requirement already satisfied: parso<0.9.0,>=0.8.4 in /opt/conda/lib/python3.12/site-packages (from jedi>=0.16->ipython>=6.1.0->ipywidgets) (0.8.4)\n",
      "Requirement already satisfied: ptyprocess>=0.5 in /opt/conda/lib/python3.12/site-packages (from pexpect>4.3->ipython>=6.1.0->ipywidgets) (0.7.0)\n",
      "Requirement already satisfied: wcwidth in /opt/conda/lib/python3.12/site-packages (from prompt-toolkit<3.1.0,>=3.0.41->ipython>=6.1.0->ipywidgets) (0.2.13)\n",
      "Requirement already satisfied: executing>=1.2.0 in /opt/conda/lib/python3.12/site-packages (from stack-data->ipython>=6.1.0->ipywidgets) (2.1.0)\n",
      "Requirement already satisfied: asttokens>=2.1.0 in /opt/conda/lib/python3.12/site-packages (from stack-data->ipython>=6.1.0->ipywidgets) (2.4.1)\n",
      "Requirement already satisfied: pure-eval in /opt/conda/lib/python3.12/site-packages (from stack-data->ipython>=6.1.0->ipywidgets) (0.2.3)\n",
      "Requirement already satisfied: six>=1.12.0 in /opt/conda/lib/python3.12/site-packages (from asttokens>=2.1.0->stack-data->ipython>=6.1.0->ipywidgets) (1.16.0)\n"
     ]
    }
   ],
   "source": [
    "!pip install ipywidgets\n",
    "import ipywidgets as widgets\n",
    "from IPython.display import display"
   ]
  },
  {
   "cell_type": "markdown",
   "metadata": {},
   "source": [
    "**Création de la liste déroulante**"
   ]
  },
  {
   "cell_type": "code",
   "execution_count": null,
   "metadata": {},
   "outputs": [
    {
     "data": {
      "application/vnd.jupyter.widget-view+json": {
       "model_id": "282c5946860b424ca15eb5e543617c7e",
       "version_major": 2,
       "version_minor": 0
      },
      "text/plain": [
       "Dropdown(description='Type de festival :', options=('Musique', 'Cinéma', 'Art', 'Sport', 'Gastronomie'), value…"
      ]
     },
     "metadata": {},
     "output_type": "display_data"
    },
    {
     "data": {
      "application/vnd.jupyter.widget-view+json": {
       "model_id": "f7ae05a9256e418dad851e6e3233f7f7",
       "version_major": 2,
       "version_minor": 0
      },
      "text/plain": [
       "Button(description='Soumettre', style=ButtonStyle())"
      ]
     },
     "metadata": {},
     "output_type": "display_data"
    },
    {
     "name": "stdout",
     "output_type": "stream",
     "text": [
      "Vous avez choisi : Art\n"
     ]
    }
   ],
   "source": [
    "# Créer une liste déroulante pour le type de festival\n",
    "type_festival = widgets.Dropdown(\n",
    "    options=['Musique', 'Cinéma', 'Art', 'Sport', 'Gastronomie'],\n",
    "    value='Musique',\n",
    "    description='Type de festival :',\n",
    "    disabled=False\n",
    ")\n",
    "\n",
    "# Afficher la liste déroulante\n",
    "display(type_festival)\n",
    "\n",
    "# Bouton pour soumettre la réponse\n",
    "submit_button = widgets.Button(description=\"Soumettre\")\n",
    "\n",
    "# Fonction pour récupérer la réponse lorsque l'utilisateur clique sur le bouton\n",
    "def on_submit(button):\n",
    "    print(f\"Vous avez choisi : {type_festival.value}\")\n",
    "\n",
    "# Associer la fonction au clic du bouton\n",
    "submit_button.on_click(on_submit)\n",
    "display(submit_button)"
   ]
  },
  {
   "cell_type": "markdown",
   "metadata": {},
   "source": [
    "### <u>3. Troisième version : Questionnaire avec possibilité de choisir plusieurs options</u>"
   ]
  },
  {
   "cell_type": "code",
   "execution_count": null,
   "metadata": {},
   "outputs": [
    {
     "data": {
      "application/vnd.jupyter.widget-view+json": {
       "model_id": "c71a67f935ef4edcb8bee1847c59b9a7",
       "version_major": 2,
       "version_minor": 0
      },
      "text/plain": [
       "Checkbox(value=False, description='Musique')"
      ]
     },
     "metadata": {},
     "output_type": "display_data"
    },
    {
     "data": {
      "application/vnd.jupyter.widget-view+json": {
       "model_id": "dd341c1014604573b092a40ed2b7c68e",
       "version_major": 2,
       "version_minor": 0
      },
      "text/plain": [
       "Checkbox(value=False, description='Cinéma')"
      ]
     },
     "metadata": {},
     "output_type": "display_data"
    },
    {
     "data": {
      "application/vnd.jupyter.widget-view+json": {
       "model_id": "b76bef19ed5c4b5ea792d11d621319c1",
       "version_major": 2,
       "version_minor": 0
      },
      "text/plain": [
       "Checkbox(value=False, description='Art')"
      ]
     },
     "metadata": {},
     "output_type": "display_data"
    },
    {
     "data": {
      "application/vnd.jupyter.widget-view+json": {
       "model_id": "74113d1048ec40bba686387f3cb1b1f2",
       "version_major": 2,
       "version_minor": 0
      },
      "text/plain": [
       "Checkbox(value=False, description='Sport')"
      ]
     },
     "metadata": {},
     "output_type": "display_data"
    },
    {
     "data": {
      "application/vnd.jupyter.widget-view+json": {
       "model_id": "661c8d01c70b4e71ae0d573b01c24c44",
       "version_major": 2,
       "version_minor": 0
      },
      "text/plain": [
       "Checkbox(value=False, description='Gastronomie')"
      ]
     },
     "metadata": {},
     "output_type": "display_data"
    },
    {
     "data": {
      "application/vnd.jupyter.widget-view+json": {
       "model_id": "288b820bacd7438b8e91b6b79eeaa048",
       "version_major": 2,
       "version_minor": 0
      },
      "text/plain": [
       "Button(description='Soumettre', style=ButtonStyle())"
      ]
     },
     "metadata": {},
     "output_type": "display_data"
    },
    {
     "name": "stdout",
     "output_type": "stream",
     "text": [
      "Vous avez choisi : Sport, Gastronomie\n"
     ]
    }
   ],
   "source": [
    "import ipywidgets as widgets\n",
    "from IPython.display import display\n",
    "\n",
    "# Liste des options disponibles\n",
    "options = ['Musique', 'Cinéma', 'Art', 'Sport', 'Gastronomie']\n",
    "\n",
    "# Créer un dictionnaire pour stocker les widgets Checkbox\n",
    "checkboxes = {option: widgets.Checkbox(value=False, description=option) for option in options}\n",
    "\n",
    "# Afficher les cases à cocher\n",
    "for checkbox in checkboxes.values():\n",
    "    display(checkbox)\n",
    "\n",
    "# Bouton pour soumettre les réponses\n",
    "submit_button = widgets.Button(description=\"Soumettre\")\n",
    "\n",
    "# Fonction pour récupérer les réponses sélectionnées lorsque l'utilisateur clique sur le bouton\n",
    "def on_submit(button):\n",
    "    # Récupérer les options sélectionnées\n",
    "    festivals_selection = [option for option, checkbox in checkboxes.items() if checkbox.value]\n",
    "    print(f\"Vous avez choisi : {', '.join(festivals_selection)}\")\n",
    "\n",
    "# Associer la fonction au clic du bouton\n",
    "submit_button.on_click(on_submit)\n",
    "display(submit_button)"
   ]
  },
  {
   "cell_type": "markdown",
   "metadata": {},
   "source": [
    "### <u>4. Quatrième version : Sous-questionnaire en fonction de la réponse du premier questionnaire</u>"
   ]
  },
  {
   "cell_type": "markdown",
   "metadata": {},
   "source": [
    "**On importe le module nécessaire**"
   ]
  },
  {
   "cell_type": "code",
   "execution_count": 2,
   "metadata": {},
   "outputs": [],
   "source": [
    "from IPython.display import clear_output"
   ]
  },
  {
   "cell_type": "markdown",
   "metadata": {},
   "source": [
    "**Code pour les différentes sous-catégories**"
   ]
  },
  {
   "cell_type": "code",
   "execution_count": null,
   "metadata": {},
   "outputs": [
    {
     "name": "stdout",
     "output_type": "stream",
     "text": [
      "Merci pour vos réponses ! Passons au second questionnaire.\n",
      "\n",
      "Genres de Musique :\n"
     ]
    },
    {
     "data": {
      "application/vnd.jupyter.widget-view+json": {
       "model_id": "9e1bbb6022ca415dba6981b4253d6e26",
       "version_major": 2,
       "version_minor": 0
      },
      "text/plain": [
       "Checkbox(value=False, description='Rock')"
      ]
     },
     "metadata": {},
     "output_type": "display_data"
    },
    {
     "data": {
      "application/vnd.jupyter.widget-view+json": {
       "model_id": "29ffa273e6134c24b9d75f1fd617c06f",
       "version_major": 2,
       "version_minor": 0
      },
      "text/plain": [
       "Checkbox(value=False, description='Pop')"
      ]
     },
     "metadata": {},
     "output_type": "display_data"
    },
    {
     "data": {
      "application/vnd.jupyter.widget-view+json": {
       "model_id": "d86b8bbf775849179cd572c3724b147e",
       "version_major": 2,
       "version_minor": 0
      },
      "text/plain": [
       "Checkbox(value=False, description='Jazz')"
      ]
     },
     "metadata": {},
     "output_type": "display_data"
    },
    {
     "data": {
      "application/vnd.jupyter.widget-view+json": {
       "model_id": "97c828c3bc934b048b2ba67500c02296",
       "version_major": 2,
       "version_minor": 0
      },
      "text/plain": [
       "Checkbox(value=False, description='Classique')"
      ]
     },
     "metadata": {},
     "output_type": "display_data"
    },
    {
     "data": {
      "application/vnd.jupyter.widget-view+json": {
       "model_id": "e630607e8e024099988571206e8bb53d",
       "version_major": 2,
       "version_minor": 0
      },
      "text/plain": [
       "Checkbox(value=False, description='Électro')"
      ]
     },
     "metadata": {},
     "output_type": "display_data"
    },
    {
     "name": "stdout",
     "output_type": "stream",
     "text": [
      "Genres de Cinéma :\n"
     ]
    },
    {
     "data": {
      "application/vnd.jupyter.widget-view+json": {
       "model_id": "f82d62f788004bf9866eaeae146dde69",
       "version_major": 2,
       "version_minor": 0
      },
      "text/plain": [
       "Checkbox(value=False, description='Action')"
      ]
     },
     "metadata": {},
     "output_type": "display_data"
    },
    {
     "data": {
      "application/vnd.jupyter.widget-view+json": {
       "model_id": "e014b1bc0f6c464eb6f439d7ce2a774e",
       "version_major": 2,
       "version_minor": 0
      },
      "text/plain": [
       "Checkbox(value=False, description='Comédie')"
      ]
     },
     "metadata": {},
     "output_type": "display_data"
    },
    {
     "data": {
      "application/vnd.jupyter.widget-view+json": {
       "model_id": "d1b4fd6ce84046769a933041a7b4a16f",
       "version_major": 2,
       "version_minor": 0
      },
      "text/plain": [
       "Checkbox(value=False, description='Drame')"
      ]
     },
     "metadata": {},
     "output_type": "display_data"
    },
    {
     "data": {
      "application/vnd.jupyter.widget-view+json": {
       "model_id": "c77ea4bb608f42acb31f1751385c18e5",
       "version_major": 2,
       "version_minor": 0
      },
      "text/plain": [
       "Checkbox(value=False, description='Documentaire')"
      ]
     },
     "metadata": {},
     "output_type": "display_data"
    },
    {
     "data": {
      "application/vnd.jupyter.widget-view+json": {
       "model_id": "109ab622dacd4d1890e8c00a5bcdda81",
       "version_major": 2,
       "version_minor": 0
      },
      "text/plain": [
       "Checkbox(value=False, description='Horreur')"
      ]
     },
     "metadata": {},
     "output_type": "display_data"
    },
    {
     "data": {
      "application/vnd.jupyter.widget-view+json": {
       "model_id": "7a8e2089c7814bf8be9b347d6522525e",
       "version_major": 2,
       "version_minor": 0
      },
      "text/plain": [
       "Button(description='Soumettre le second questionnaire', style=ButtonStyle())"
      ]
     },
     "metadata": {},
     "output_type": "display_data"
    },
    {
     "name": "stdout",
     "output_type": "stream",
     "text": [
      "\n",
      "Vos choix pour le second questionnaire :\n",
      "Musique : Rock, Pop, Jazz\n",
      "Cinéma : Drame, Documentaire\n"
     ]
    }
   ],
   "source": [
    "# --- Étape 1 : Premier questionnaire ---\n",
    "options = ['Musique', 'Cinéma', 'Art', 'Sport', 'Gastronomie']\n",
    "\n",
    "# Créer un widget Checkbox pour chaque option\n",
    "checkboxes = {option: widgets.Checkbox(value=False, description=option) for option in options}\n",
    "\n",
    "# Afficher les cases à cocher pour le premier questionnaire\n",
    "for checkbox in checkboxes.values():\n",
    "    display(checkbox)\n",
    "\n",
    "# Bouton pour soumettre les réponses du premier questionnaire\n",
    "submit_button_1 = widgets.Button(description=\"Soumettre\")\n",
    "\n",
    "# Fonction pour gérer le deuxième questionnaire basé sur les sélections du premier\n",
    "def create_second_questionnaire(selected_festivals):\n",
    "    # Effacer l'affichage précédent\n",
    "    clear_output()\n",
    "    \n",
    "    # Afficher un message pour le second questionnaire\n",
    "    print(\"Merci pour vos réponses ! Passons au second questionnaire.\\n\")\n",
    "\n",
    "    # Dictionnaire pour stocker les widgets Checkbox pour chaque sous-catégorie\n",
    "    second_questionnaire = {}\n",
    "\n",
    "    # Créer des cases à cocher en fonction des choix\n",
    "    if 'Musique' in selected_festivals:\n",
    "        musique_options = ['Rock', 'Pop', 'Jazz', 'Classique', 'Électro']\n",
    "        second_questionnaire['Musique'] = {option: widgets.Checkbox(value=False, description=option) for option in musique_options}\n",
    "        print(\"Genres de Musique :\")\n",
    "        for checkbox in second_questionnaire['Musique'].values():\n",
    "            display(checkbox)\n",
    "    \n",
    "    if 'Cinéma' in selected_festivals:\n",
    "        cinema_options = ['Action', 'Comédie', 'Drame', 'Documentaire', 'Horreur']\n",
    "        second_questionnaire['Cinéma'] = {option: widgets.Checkbox(value=False, description=option) for option in cinema_options}\n",
    "        print(\"Genres de Cinéma :\")\n",
    "        for checkbox in second_questionnaire['Cinéma'].values():\n",
    "            display(checkbox)\n",
    "    \n",
    "    if 'Art' in selected_festivals:\n",
    "        art_options = ['Peinture', 'Sculpture', 'Photographie', 'Installation', 'Performances']\n",
    "        second_questionnaire['Art'] = {option: widgets.Checkbox(value=False, description=option) for option in art_options}\n",
    "        print(\"Types d'Art :\")\n",
    "        for checkbox in second_questionnaire['Art'].values():\n",
    "            display(checkbox)\n",
    "    \n",
    "    if 'Sport' in selected_festivals:\n",
    "        sport_options = ['Football', 'Tennis', 'Basketball', 'Course à pied', 'Natation']\n",
    "        second_questionnaire['Sport'] = {option: widgets.Checkbox(value=False, description=option) for option in sport_options}\n",
    "        print(\"Types de Sport :\")\n",
    "        for checkbox in second_questionnaire['Sport'].values():\n",
    "            display(checkbox)\n",
    "    \n",
    "    if 'Gastronomie' in selected_festivals:\n",
    "        gastronomie_options = ['Cuisine française', 'Cuisine italienne', 'Cuisine japonaise', 'Cuisine végétarienne']\n",
    "        second_questionnaire['Gastronomie'] = {option: widgets.Checkbox(value=False, description=option) for option in gastronomie_options}\n",
    "        print(\"Types de Cuisine :\")\n",
    "        for checkbox in second_questionnaire['Gastronomie'].values():\n",
    "            display(checkbox)\n",
    "\n",
    "    # Bouton pour soumettre les réponses du second questionnaire\n",
    "    submit_button_2 = widgets.Button(description=\"Soumettre le second questionnaire\")\n",
    "    \n",
    "    # Fonction pour gérer la soumission du second questionnaire\n",
    "    def on_submit_2(button):\n",
    "        print(\"\\nVos choix pour le second questionnaire :\")\n",
    "        for category, checkboxes in second_questionnaire.items():\n",
    "            selected_options = [option for option, checkbox in checkboxes.items() if checkbox.value]\n",
    "            print(f\"{category} : {', '.join(selected_options)}\")\n",
    "    \n",
    "    # Associer la fonction au bouton du second questionnaire\n",
    "    submit_button_2.on_click(on_submit_2)\n",
    "    display(submit_button_2)\n",
    "\n",
    "# Fonction pour soumettre le premier questionnaire\n",
    "def on_submit_1(button):\n",
    "    # Récupérer les sélections du premier questionnaire\n",
    "    selected_festivals = [option for option, checkbox in checkboxes.items() if checkbox.value]\n",
    "    \n",
    "    # Si aucun festival n'est sélectionné, afficher un message d'erreur\n",
    "    if not selected_festivals:\n",
    "        print(\"Veuillez sélectionner au moins un type de festival.\")\n",
    "        return\n",
    "    \n",
    "    # Appeler le second questionnaire en fonction des réponses\n",
    "    create_second_questionnaire(selected_festivals)\n",
    "\n",
    "# Associer la fonction au bouton du premier questionnaire\n",
    "submit_button_1.on_click(on_submit_1)\n",
    "display(submit_button_1)"
   ]
  }
 ],
 "metadata": {
  "kernelspec": {
   "display_name": "base",
   "language": "python",
   "name": "python3"
  },
  "language_info": {
   "codemirror_mode": {
    "name": "ipython",
    "version": 3
   },
   "file_extension": ".py",
   "mimetype": "text/x-python",
   "name": "python",
   "nbconvert_exporter": "python",
   "pygments_lexer": "ipython3",
   "version": "3.12.6"
  }
 },
 "nbformat": 4,
 "nbformat_minor": 2
}
