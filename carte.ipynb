{
 "cells": [
  {
   "cell_type": "markdown",
   "metadata": {},
   "source": [
    "# Importation les bibliothèques nécessaires"
   ]
  },
  {
   "cell_type": "code",
   "execution_count": 10,
   "metadata": {},
   "outputs": [
    {
     "name": "stdout",
     "output_type": "stream",
     "text": [
      "Requirement already satisfied: fuzzywuzzy in /opt/conda/lib/python3.12/site-packages (0.18.0)\n",
      "Requirement already satisfied: python-Levenshtein in /opt/conda/lib/python3.12/site-packages (0.26.1)\n",
      "Requirement already satisfied: Levenshtein==0.26.1 in /opt/conda/lib/python3.12/site-packages (from python-Levenshtein) (0.26.1)\n",
      "Requirement already satisfied: rapidfuzz<4.0.0,>=3.9.0 in /opt/conda/lib/python3.12/site-packages (from Levenshtein==0.26.1->python-Levenshtein) (3.10.1)\n"
     ]
    }
   ],
   "source": [
    "!pip install fuzzywuzzy\n",
    "!pip install python-Levenshtein\n"
   ]
  },
  {
   "cell_type": "code",
   "execution_count": 11,
   "metadata": {},
   "outputs": [],
   "source": [
    "# Importer les bibliothèques\n",
    "import pandas as pd\n",
    "from fuzzywuzzy import process\n",
    "import folium\n",
    "\n",
    "# Configurer l'affichage complet des colonnes dans pandas\n",
    "pd.set_option(\"display.max_columns\", None)"
   ]
  },
  {
   "cell_type": "markdown",
   "metadata": {},
   "source": [
    "# Charger les données des 50 festivals les plus consultés dans la dernière semaine "
   ]
  },
  {
   "cell_type": "code",
   "execution_count": 12,
   "metadata": {},
   "outputs": [
    {
     "name": "stdout",
     "output_type": "stream",
     "text": [
      "données des festivals en France\n",
      "Aperçu des données Festivals en France :\n",
      "           ﻿Nom du festival Envergure territoriale  \\\n",
      "0          Festival andalou              Régionale   \n",
      "1  Festival Rêves d'enfants                    NaN   \n",
      "2      Printemps de Paroles                    NaN   \n",
      "3                 Pharaonic                    NaN   \n",
      "4           Sarcus Festival                    NaN   \n",
      "\n",
      "  Région principale de déroulement Département principal de déroulement  \\\n",
      "0       Provence-Alpes-Côte d'Azur                             Vaucluse   \n",
      "1       Provence-Alpes-Côte d'Azur                         Hautes-Alpes   \n",
      "2                    Île-de-France                       Seine-et-Marne   \n",
      "3             Auvergne-Rhône-Alpes                               Savoie   \n",
      "4              Centre-Val de Loire                       Indre-et-Loire   \n",
      "\n",
      "  Commune principale de déroulement  \\\n",
      "0                           Avignon   \n",
      "1                          Briançon   \n",
      "2                Bussy-Saint-Martin   \n",
      "3                          Chambéry   \n",
      "4              Chemillé-sur-Indrois   \n",
      "\n",
      "  Code postal (de la commune principale de déroulement) Code Insee commune  \\\n",
      "0                                              84000                 84007   \n",
      "1                                               5105                  5023   \n",
      "2                                              77600                 77059   \n",
      "3                                              73000                 73065   \n",
      "4                                              37460                 37069   \n",
      "\n",
      "  Code Insee EPCI                Libellé EPCI Numéro de voie  \\\n",
      "0       248400251  CA du Grand Avignon (COGA)            NaN   \n",
      "1       240500439          CC du Briançonnais            NaN   \n",
      "2       247700594           Marne et Gondoire            NaN   \n",
      "3       200069110        CA du Grand Chambéry            NaN   \n",
      "4       200071587      CC Loches Sud Touraine            NaN   \n",
      "\n",
      "  Type de voie (rue, Avenue, boulevard, etc.)  Nom de la voie  \\\n",
      "0                                         Rue  Vincent auriol   \n",
      "1                                         NaN             NaN   \n",
      "2                                         NaN             NaN   \n",
      "3                                         NaN             NaN   \n",
      "4                                       Route       de Loches   \n",
      "\n",
      "      Adresse postale  Complément d'adresse (facultatif)  \\\n",
      "0  Rue Vincent auriol  Association Andalouse Alhambra, 9   \n",
      "1                 NaN                                NaN   \n",
      "2                 NaN                                NaN   \n",
      "3                 NaN                       En plein air   \n",
      "4     Route de Loches                                NaN   \n",
      "\n",
      "                           Site internet du festival  \\\n",
      "0                     https://lefestivalandalou.com/   \n",
      "1                            www.serre-chevalier.com   \n",
      "2  http://www.marneetgondoire.fr/parc-culturel-de...   \n",
      "3                           http://www.pharaonic.fr/   \n",
      "4                                  https://sarcus.fr   \n",
      "\n",
      "                  Adresse e-mail Décennie de création du festival  \\\n",
      "0  contact@lefestivalandalou.com                   De 2000 à 2009   \n",
      "1            info@ot-briancon.fr                    2010 et après   \n",
      "2                            NaN                   De 2000 à 2009   \n",
      "3                            NaN                    2010 et après   \n",
      "4           contact@bleuenuit.fr                    2010 et après   \n",
      "\n",
      "  Année de création du festival Discipline dominante  \\\n",
      "0                          2002              Musique   \n",
      "1                          2019   Pluridisciplinaire   \n",
      "2              01/01/2004 00:00   Pluridisciplinaire   \n",
      "3                          2015              Musique   \n",
      "4                          2016              Musique   \n",
      "\n",
      "  Sous-catégorie spectacle vivant                Sous-catégorie musique  \\\n",
      "0                             NaN                     Musiques du monde   \n",
      "1                         Théâtre                                   NaN   \n",
      "2                             NaN                                   NaN   \n",
      "3                             NaN  Musiques amplifiées ou électroniques   \n",
      "4                             NaN        Musiques électroniques, techno   \n",
      "\n",
      "                 Sous-catégorie Musique CNM  \\\n",
      "0                    09- Pluridisciplinaire   \n",
      "1                                       NaN   \n",
      "2                                       NaN   \n",
      "3  02- Musiques amplifiées ou électroniques   \n",
      "4  02- Musiques amplifiées ou électroniques   \n",
      "\n",
      "  Sous-catégorie cinéma et audiovisuel  \\\n",
      "0                                  NaN   \n",
      "1                                  NaN   \n",
      "2                                  NaN   \n",
      "3                                  NaN   \n",
      "4                                  NaN   \n",
      "\n",
      "  Sous-catégorie arts visuels et arts numériques  \\\n",
      "0                                            NaN   \n",
      "1                                            NaN   \n",
      "2                                            NaN   \n",
      "3                                            NaN   \n",
      "4                                            NaN   \n",
      "\n",
      "  Sous-catégorie livre et littérature  \\\n",
      "0                                 NaN   \n",
      "1                             Fiction   \n",
      "2                                 NaN   \n",
      "3                                 NaN   \n",
      "4                                 NaN   \n",
      "\n",
      "  Période principale de déroulement du festival Identifiant Agence A  \\\n",
      "0          Avant-saison (1er janvier - 20 juin)                  NaN   \n",
      "1          Avant-saison (1er janvier - 20 juin)                  NaN   \n",
      "2          Avant-saison (1er janvier - 20 juin)                  NaN   \n",
      "3          Avant-saison (1er janvier - 20 juin)                  NaN   \n",
      "4      Après-saison (6 septembre - 31 décembre)                  NaN   \n",
      "\n",
      "       Identifiant                  Géocodage xy  identifiant CNM  \n",
      "0   FEST_84007_514  43.9352448339, 4.84071572505           1558.0  \n",
      "1  FEST_05023_1069  44.8994986041, 6.64947524018              NaN  \n",
      "2  FEST_77059_1118  48.8462454012, 2.67900406868              NaN  \n",
      "3  FEST_73065_1434   45.583182552, 5.90903392417           2282.0  \n",
      "4  FEST_37069_1605  47.1535504221, 1.15871292042           5668.0  \n"
     ]
    }
   ],
   "source": [
    "# Le fichier des festivals en France présente des problèmes : on l'ouvre et on cherche les problèmes en analysant les premières lignes\n",
    "print(\"données des festivals en France\")\n",
    "france_festivals_file = \"festivals_en_France.csv\"\n",
    "df_france = pd.read_csv(france_festivals_file, sep=\";\")\n",
    "print(\"Aperçu des données Festivals en France :\")\n",
    "print(df_france.head())\n"
   ]
  },
  {
   "cell_type": "code",
   "execution_count": 13,
   "metadata": {},
   "outputs": [
    {
     "name": "stdout",
     "output_type": "stream",
     "text": [
      "['\\ufeffNom du festival', 'Envergure territoriale', 'Région principale de déroulement', 'Département principal de déroulement', 'Commune principale de déroulement', 'Code postal (de la commune principale de déroulement)', 'Code Insee commune', 'Code Insee EPCI', 'Libellé EPCI', 'Numéro de voie', 'Type de voie (rue, Avenue, boulevard, etc.)', 'Nom de la voie', 'Adresse postale', \"Complément d'adresse (facultatif)\", 'Site internet du festival', 'Adresse e-mail', 'Décennie de création du festival', 'Année de création du festival', 'Discipline dominante', 'Sous-catégorie spectacle vivant', 'Sous-catégorie musique', 'Sous-catégorie Musique CNM', 'Sous-catégorie cinéma et audiovisuel', 'Sous-catégorie arts visuels et arts numériques', 'Sous-catégorie livre et littérature', 'Période principale de déroulement du festival', 'Identifiant Agence A', 'Identifiant', 'Géocodage xy', 'identifiant CNM']\n"
     ]
    }
   ],
   "source": [
    "#la colonne du nom des festivals dans le fichier festival_en_France.csv n'est pas reconnu\n",
    "#On cherche son vrai nom puis on va le modifier \n",
    "print(df_france.columns.tolist())"
   ]
  },
  {
   "cell_type": "code",
   "execution_count": 14,
   "metadata": {},
   "outputs": [],
   "source": [
    "# On modifie le nom de la première colonne\n",
    "df_france.rename(columns={\"\\ufeffNom du festival\": \"Nom du festival\"}, inplace=True)"
   ]
  },
  {
   "cell_type": "code",
   "execution_count": 15,
   "metadata": {},
   "outputs": [
    {
     "ename": "NameError",
     "evalue": "name 'df_top_50' is not defined",
     "output_type": "error",
     "traceback": [
      "\u001b[0;31m---------------------------------------------------------------------------\u001b[0m",
      "\u001b[0;31mNameError\u001b[0m                                 Traceback (most recent call last)",
      "Cell \u001b[0;32mIn[15], line 2\u001b[0m\n\u001b[1;32m      1\u001b[0m \u001b[38;5;66;03m# Nettoyer les colonnes des deux bases\u001b[39;00m\n\u001b[0;32m----> 2\u001b[0m df_top_50[\u001b[38;5;124m\"\u001b[39m\u001b[38;5;124mNom_clean\u001b[39m\u001b[38;5;124m\"\u001b[39m] \u001b[38;5;241m=\u001b[39m \u001b[43mdf_top_50\u001b[49m[\u001b[38;5;124m\"\u001b[39m\u001b[38;5;124mNom\u001b[39m\u001b[38;5;124m\"\u001b[39m]\u001b[38;5;241m.\u001b[39mstr\u001b[38;5;241m.\u001b[39mlower()\u001b[38;5;241m.\u001b[39mstr\u001b[38;5;241m.\u001b[39mstrip()\n\u001b[1;32m      3\u001b[0m df_france[\u001b[38;5;124m\"\u001b[39m\u001b[38;5;124mNom_clean\u001b[39m\u001b[38;5;124m\"\u001b[39m] \u001b[38;5;241m=\u001b[39m df_france[\u001b[38;5;124m\"\u001b[39m\u001b[38;5;124mNom du festival\u001b[39m\u001b[38;5;124m\"\u001b[39m]\u001b[38;5;241m.\u001b[39mstr\u001b[38;5;241m.\u001b[39mlower()\u001b[38;5;241m.\u001b[39mstr\u001b[38;5;241m.\u001b[39mstrip()\n\u001b[1;32m      4\u001b[0m df_france[\u001b[38;5;124m\"\u001b[39m\u001b[38;5;124mCommune_clean\u001b[39m\u001b[38;5;124m\"\u001b[39m] \u001b[38;5;241m=\u001b[39m df_france[\u001b[38;5;124m\"\u001b[39m\u001b[38;5;124mCommune principale de déroulement\u001b[39m\u001b[38;5;124m\"\u001b[39m]\u001b[38;5;241m.\u001b[39mstr\u001b[38;5;241m.\u001b[39mlower()\u001b[38;5;241m.\u001b[39mstr\u001b[38;5;241m.\u001b[39mstrip()\n",
      "\u001b[0;31mNameError\u001b[0m: name 'df_top_50' is not defined"
     ]
    }
   ],
   "source": [
    "# Nettoyer les colonnes des deux bases\n",
    "df_top_50[\"Nom_clean\"] = df_top_50[\"Nom\"].str.lower().str.strip()\n",
    "df_france[\"Nom_clean\"] = df_france[\"Nom du festival\"].str.lower().str.strip()\n",
    "df_france[\"Commune_clean\"] = df_france[\"Commune principale de déroulement\"].str.lower().str.strip()\n",
    "\n",
    "# Vérifier les premières lignes\n",
    "print(\"Aperçu des données Festivals en France :\")\n",
    "print(df_france.head())"
   ]
  },
  {
   "cell_type": "markdown",
   "metadata": {},
   "source": [
    "#  Extraire les coordonnées géographiques"
   ]
  },
  {
   "cell_type": "code",
   "execution_count": 49,
   "metadata": {},
   "outputs": [],
   "source": [
    "df_france[[\"Latitude\", \"Longitude\"]] = df_france[\"Géocodage xy\"].str.split(\",\", expand=True)\n",
    "df_france[\"Latitude\"] = pd.to_numeric(df_france[\"Latitude\"], errors=\"coerce\")\n",
    "df_france[\"Longitude\"] = pd.to_numeric(df_france[\"Longitude\"], errors=\"coerce\")"
   ]
  },
  {
   "cell_type": "markdown",
   "metadata": {},
   "source": [
    "# Fusion des données "
   ]
  },
  {
   "cell_type": "code",
   "execution_count": null,
   "metadata": {},
   "outputs": [
    {
     "name": "stdout",
     "output_type": "stream",
     "text": [
      "Aperçu des données fusionnées :\n",
      "                      Nom du festival Envergure territoriale  \\\n",
      "0  1, 2, 3 … CINÉ ! FAIT SON FESTIVAL              Régionale   \n",
      "1                  1, 2, 3, PESTACLES                    NaN   \n",
      "2                  1, 2, 3… COMÉDIE !                    NaN   \n",
      "3                           10 SUR 10                    NaN   \n",
      "4                         100 DÉTOURS                    NaN   \n",
      "\n",
      "  Région principale de déroulement Département principal de déroulement  \\\n",
      "0              Centre-Val de Loire                       Indre-et-Loire   \n",
      "1               Nouvelle-Aquitaine                 Pyrénées-Atlantiques   \n",
      "2       Provence-Alpes-Côte d'Azur                             Vaucluse   \n",
      "3             Auvergne-Rhône-Alpes                         Haute-Savoie   \n",
      "4             Auvergne-Rhône-Alpes                                Isère   \n",
      "\n",
      "  Commune principale de déroulement  \\\n",
      "0                             Tours   \n",
      "1                              Uzos   \n",
      "2                         Le Pontet   \n",
      "3                            Annecy   \n",
      "4             Saint-Jean-de-Bournay   \n",
      "\n",
      "  Code postal (de la commune principale de déroulement) Code Insee commune  \\\n",
      "0                                              37000                 37261   \n",
      "1                                              64110                 64550   \n",
      "2                                              84130                 84092   \n",
      "3                                              74000                 74010   \n",
      "4                                              38440                 38399   \n",
      "\n",
      "  Code Insee EPCI                  Libellé EPCI Numéro de voie  \\\n",
      "0       243700754  Tours Métropole Val de Loire            NaN   \n",
      "1       200067254         CA Pau Béarn Pyrénées              1   \n",
      "2       248400251    CA du Grand Avignon (COGA)            NaN   \n",
      "3       200066793            CA du Grand Annecy            NaN   \n",
      "4       200059392               CC Bièvre Isère            NaN   \n",
      "\n",
      "  Type de voie (rue, Avenue, boulevard, etc.) Nom de la voie  \\\n",
      "0                                         NaN            NaN   \n",
      "1                                         Rue     des ecoles   \n",
      "2                                         NaN            NaN   \n",
      "3                                         NaN            NaN   \n",
      "4                                         NaN            NaN   \n",
      "\n",
      "    Adresse postale                  Complément d'adresse (facultatif)  \\\n",
      "0               NaN                                                NaN   \n",
      "1  1 Rue des ecoles                                             mairie   \n",
      "2               NaN                                                NaN   \n",
      "3               NaN  Différents lieux : Le manège du haras Galerie ...   \n",
      "4               NaN                                                NaN   \n",
      "\n",
      "                           Site internet du festival  \\\n",
      "0  https://www.facebook.com/watch/?v=493641138004823   \n",
      "1                        http://www.123pestacles.fr/   \n",
      "2                             www.ville-lepontet.com   \n",
      "3                 http://10sur10-festival.com/10-10/   \n",
      "4                     https://festival100detours.fr/   \n",
      "\n",
      "               Adresse e-mail Décennie de création du festival  \\\n",
      "0                         NaN                    2010 et après   \n",
      "1     contact@123pestacles.fr                    2010 et après   \n",
      "2  chateau@mairie-lepontet.fr                              NaN   \n",
      "3                         NaN                    2010 et après   \n",
      "4          contact@jaspir.com                    2010 et après   \n",
      "\n",
      "  Année de création du festival Discipline dominante  \\\n",
      "0                          2015  Cinéma, audiovisuel   \n",
      "1                          2014     Spectacle vivant   \n",
      "2                           NaN     Spectacle vivant   \n",
      "3                           NaN   Pluridisciplinaire   \n",
      "4                          2013   Pluridisciplinaire   \n",
      "\n",
      "       Sous-catégorie spectacle vivant Sous-catégorie musique  \\\n",
      "0                                  NaN                    NaN   \n",
      "1  Spectacle vivant pluridisciplinaire                    NaN   \n",
      "2                              Théâtre                    NaN   \n",
      "3                                  NaN                    NaN   \n",
      "4                                  NaN                    NaN   \n",
      "\n",
      "  Sous-catégorie Musique CNM Sous-catégorie cinéma et audiovisuel  \\\n",
      "0                        NaN                         Jeune public   \n",
      "1                        NaN                                  NaN   \n",
      "2                        NaN                                  NaN   \n",
      "3                        NaN                                  NaN   \n",
      "4                        NaN                                  NaN   \n",
      "\n",
      "  Sous-catégorie arts visuels et arts numériques  \\\n",
      "0                                            NaN   \n",
      "1                                            NaN   \n",
      "2                                            NaN   \n",
      "3                                            NaN   \n",
      "4                                            NaN   \n",
      "\n",
      "  Sous-catégorie livre et littérature  \\\n",
      "0                                 NaN   \n",
      "1                                 NaN   \n",
      "2                                 NaN   \n",
      "3                                 NaN   \n",
      "4                                 NaN   \n",
      "\n",
      "  Période principale de déroulement du festival Identifiant Agence A  \\\n",
      "0          Avant-saison (1er janvier - 20 juin)                  NaN   \n",
      "1          Avant-saison (1er janvier - 20 juin)                LA602   \n",
      "2          Avant-saison (1er janvier - 20 juin)                  NaN   \n",
      "3                Saison (21 juin - 5 septembre)                  NaN   \n",
      "4      Après-saison (6 septembre - 31 décembre)                  NaN   \n",
      "\n",
      "       Identifiant                    Géocodage xy  identifiant CNM  \\\n",
      "0  FEST_37261_6727   47.3986382281, 0.696526376417              NaN   \n",
      "1  FEST_64550_6836  43.2607603254, -0.349153042882              NaN   \n",
      "2  FEST_84092_3161    43.9683903531, 4.86549590773              NaN   \n",
      "3   FEST_74010_251    45.8906432566, 6.12551773598              NaN   \n",
      "4  FEST_38399_5919    45.4982631773, 5.14748470946              NaN   \n",
      "\n",
      "    Latitude  Longitude                         Nom_clean_x  \\\n",
      "0  47.398638   0.696526  1, 2, 3 … ciné ! fait son festival   \n",
      "1  43.260760  -0.349153                  1, 2, 3, pestacles   \n",
      "2  43.968390   4.865496                  1, 2, 3… comédie !   \n",
      "3  45.890643   6.125518                           10 sur 10   \n",
      "4  45.498263   5.147485                         100 détours   \n",
      "\n",
      "           Commune_clean  Classement  Nom Lieu Lien Nom_clean_y Match  \n",
      "0                  tours         NaN  NaN  NaN  NaN         NaN   NaN  \n",
      "1                   uzos         NaN  NaN  NaN  NaN         NaN   NaN  \n",
      "2              le pontet         NaN  NaN  NaN  NaN         NaN   NaN  \n",
      "3                 annecy         NaN  NaN  NaN  NaN         NaN   NaN  \n",
      "4  saint-jean-de-bournay         NaN  NaN  NaN  NaN         NaN   NaN  \n"
     ]
    }
   ],
   "source": [
    "# Rapprocher les noms des festivals avec un score de similarité\n",
    "def match_festival(row, all_names):\n",
    "    if pd.notna(row[\"Nom_clean\"]):\n",
    "        match, score = process.extractOne(row[\"Nom_clean\"], all_names)\n",
    "        if score > 80:  # Seuil de similarité\n",
    "            return match\n",
    "    return None\n",
    "\n",
    "# Appliquer le rapprochement\n",
    "df_france_names = df_france[\"Nom_clean\"].dropna().tolist()\n",
    "df_top_50[\"Match\"] = df_top_50.apply(match_festival, all_names=df_france_names, axis=1)\n",
    "\n",
    "# Fusionner avec le DataFrame France basé sur les correspondances\n",
    "df_merged = pd.merge(df_france, df_top_50, left_on=\"Nom_clean\", right_on=\"Match\", how=\"outer\")\n",
    "\n",
    "# Vérifier les correspondances\n",
    "print(\"Aperçu des données fusionnées :\")\n",
    "print(df_merged.head())"
   ]
  },
  {
   "cell_type": "code",
   "execution_count": 51,
   "metadata": {},
   "outputs": [],
   "source": [
    "# Marquer les festivals populaires\n",
    "df_merged[\"Populaire\"] = ~df_merged[\"Classement\"].isna()\n",
    "\n",
    "# Supprimer les lignes sans coordonnées\n",
    "df_merged = df_merged.dropna(subset=[\"Latitude\", \"Longitude\"])\n"
   ]
  },
  {
   "cell_type": "code",
   "execution_count": 1,
   "metadata": {},
   "outputs": [
    {
     "ename": "NameError",
     "evalue": "name 'folium' is not defined",
     "output_type": "error",
     "traceback": [
      "\u001b[0;31m---------------------------------------------------------------------------\u001b[0m",
      "\u001b[0;31mNameError\u001b[0m                                 Traceback (most recent call last)",
      "Cell \u001b[0;32mIn[1], line 2\u001b[0m\n\u001b[1;32m      1\u001b[0m \u001b[38;5;66;03m# Créer une carte centrée sur la France\u001b[39;00m\n\u001b[0;32m----> 2\u001b[0m map_festivals \u001b[38;5;241m=\u001b[39m \u001b[43mfolium\u001b[49m\u001b[38;5;241m.\u001b[39mMap(location\u001b[38;5;241m=\u001b[39m[\u001b[38;5;241m46.603354\u001b[39m, \u001b[38;5;241m1.888334\u001b[39m], zoom_start\u001b[38;5;241m=\u001b[39m\u001b[38;5;241m6\u001b[39m)\n\u001b[1;32m      4\u001b[0m \u001b[38;5;66;03m# Ajouter des marqueurs pour les festivals\u001b[39;00m\n\u001b[1;32m      5\u001b[0m \u001b[38;5;28;01mfor\u001b[39;00m _, row \u001b[38;5;129;01min\u001b[39;00m df_merged\u001b[38;5;241m.\u001b[39miterrows():\n",
      "\u001b[0;31mNameError\u001b[0m: name 'folium' is not defined"
     ]
    }
   ],
   "source": [
    "# Créer une carte centrée sur la France\n",
    "map_festivals = folium.Map(location=[46.603354, 1.888334], zoom_start=6)\n",
    "\n",
    "# Ajouter des marqueurs pour les festivals\n",
    "for _, row in df_merged.iterrows():\n",
    "    if row[\"Populaire\"]:  # Festivals populaires\n",
    "        folium.Marker(\n",
    "            location=[row[\"Latitude\"], row[\"Longitude\"]],\n",
    "            popup=f\"#{int(row['Classement'])} {row['Nom']} - {row['Commune principale de déroulement']}\",\n",
    "            icon=folium.Icon(color=\"red\", icon=\"star\"),\n",
    "        ).add_to(map_festivals)\n",
    "    else:  # Autres festivals\n",
    "        folium.CircleMarker(\n",
    "            location=[row[\"Latitude\"], row[\"Longitude\"]],\n",
    "            radius=5,\n",
    "            color=\"blue\",\n",
    "            fill=True,\n",
    "            fill_color=\"blue\",\n",
    "            fill_opacity=0.6,\n",
    "            popup=row[\"Nom du festival\"],\n",
    "        ).add_to(map_festivals)\n",
    "\n",
    "# Sauvegarder la carte\n",
    "map_festivals.save(\"carte_festivals_france.html\")\n",
    "print(\"Carte des festivals sauvegardée sous 'carte_festivals_france.html'\")\n"
   ]
  },
  {
   "cell_type": "markdown",
   "metadata": {},
   "source": [
    "# Créer une carte avec Folium\n"
   ]
  },
  {
   "cell_type": "markdown",
   "metadata": {},
   "source": [
    "#  Afficher la carte dans le notebook\n"
   ]
  },
  {
   "cell_type": "markdown",
   "metadata": {},
   "source": [
    "#  Ouvrir la carte dans un navigateur\n"
   ]
  }
 ],
 "metadata": {
  "kernelspec": {
   "display_name": "base",
   "language": "python",
   "name": "python3"
  },
  "language_info": {
   "codemirror_mode": {
    "name": "ipython",
    "version": 3
   },
   "file_extension": ".py",
   "mimetype": "text/x-python",
   "name": "python",
   "nbconvert_exporter": "python",
   "pygments_lexer": "ipython3",
   "version": "3.12.7"
  }
 },
 "nbformat": 4,
 "nbformat_minor": 2
}
