{
 "cells": [
  {
   "cell_type": "markdown",
   "metadata": {},
   "source": [
    "\n",
    "\n",
    "# Nettoyage de la base de données\n",
    "\n",
    "### <u>1. Description de la base de données\n",
    "\n",
    "**Les données** </u>\n",
    "\n",
    "La base de données utilisée est celle de Data.gouv qui liste les festivals en France. Les critères de sélection des festivals sont les suivants :\n",
    "- avoir eu lieu en 2019\n",
    "- avoir connu au moins deux éditions en 2019\n",
    "- se dérouler sur plus d’une journée\n",
    "- compter au moins 5 spectacles, représentations, concerts ou projections\n",
    "<u> \n",
    "\n",
    "\n",
    "\n",
    "**Description de la base de données** </u>\n",
    "\n",
    "La base de donnée regroupe les éléments suivants :\n",
    "- Identité du festival : nom, disciplines dominantes, sous-catégorie au sein des disciplines\n",
    "- Données géographiques : région de déroulement, département, adresse postale, géocodage xy (coordonnées)\n",
    "- Données administratives : identifiant, code insee...\n",
    "- Données temporelles : période de déroulement, date de création...\n",
    "- Trouver/communiquer avec le festival : site internet et adresse mail."
   ]
  },
  {
   "cell_type": "markdown",
   "metadata": {},
   "source": [
    "### <u>2. Suppression des données inutiles \n",
    "</u>\n",
    "\n",
    "On a choisit de supprimer les colonnes suivantes : \n",
    "- Code postal (de la commune principale de déroulement)\n",
    "- Code Insee commune\n",
    "- Code Insee EPCI\n",
    "- Libellé EPCI\t\n",
    "- Numéro de voie\t \n",
    "- Type de voie (rue, Avenue, boulevard, etc.)\t\n",
    "- Nom de la voie\t\n",
    "- Adresse postale\t\n",
    "- Complément d'adresse (facultatif)\n",
    "- Décennie de création du festival\n",
    "- Année de création du festival\n",
    "- Identifiant Agence A\n",
    "- identifiant CNM\n"
   ]
  }
 ],
 "metadata": {
  "language_info": {
   "name": "python"
  }
 },
 "nbformat": 4,
 "nbformat_minor": 2
}
