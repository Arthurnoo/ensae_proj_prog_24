{
 "cells": [
  {
   "cell_type": "markdown",
   "metadata": {},
   "source": [
    "Les données :\n",
    "\n",
    "La base de données utilisée est celle de Data.gouv qui liste les festivals en France. Les critères de sélection des festivals sont les suivants :\n",
    "- avoir eu lieu en 2019\n",
    "- avoir connu au moins deux éditions en 2019\n",
    "- se dérouler sur plus d’une journée\n",
    "- compter au moins 5 spectacles, représentations, concerts ou projections\n",
    "\n",
    "\n",
    "Description de la base de données :\n",
    "\n",
    "La base de donnée regroupe les éléments suivants :\n",
    "- Identité du festival : nom, disciplines dominantes, sous-catégorie au sein des disciplines\n",
    "- Données géographiques : région de déroulement, département, adresse postale, géocodage xy (coordonnées)\n",
    "- Données administratives : identifiant, code insee...\n",
    "- Données temporelles : période de déroulement, date de création...\n",
    "- Trouver/communiquer avec le festival : site internet et adresse mail."
   ]
  }
 ],
 "metadata": {
  "language_info": {
   "name": "python"
  }
 },
 "nbformat": 4,
 "nbformat_minor": 2
}
