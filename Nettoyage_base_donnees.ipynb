{
 "cells": [
  {
   "cell_type": "markdown",
   "metadata": {},
   "source": [
    "\n",
    "\n",
    "# Nettoyage de la base de données\n",
    "\n",
    "### <u>1. Description de la base de données\n",
    "\n",
    "**Les données** </u>\n",
    "\n",
    "La base de données utilisée est celle de Data.gouv qui liste les festivals en France. Les critères de sélection des festivals sont les suivants :\n",
    "- avoir eu lieu en 2019\n",
    "- avoir connu au moins deux éditions en 2019\n",
    "- se dérouler sur plus d’une journée\n",
    "- compter au moins 5 spectacles, représentations, concerts ou projections\n",
    "<u> \n",
    "\n",
    "\n",
    "\n",
    "**Description de la base de données** </u>\n",
    "\n",
    "La base de donnée regroupe les éléments suivants :\n",
    "- Identité du festival : nom, disciplines dominantes, sous-catégorie au sein des disciplines\n",
    "- Données géographiques : région de déroulement, département, adresse postale, géocodage xy (coordonnées)\n",
    "- Données administratives : identifiant, code insee...\n",
    "- Données temporelles : période de déroulement, date de création...\n",
    "- Trouver/communiquer avec le festival : site internet et adresse mail."
   ]
  },
  {
   "cell_type": "markdown",
   "metadata": {},
   "source": [
    "### <u>2. Suppression des données inutiles \n",
    "</u>\n",
    "\n",
    "On a choisit de supprimer les colonnes suivantes : \n",
    "- Code postal (de la commune principale de déroulement)\n",
    "- Code Insee commune\n",
    "- Code Insee EPCI\n",
    "- Libellé EPCI\t\n",
    "- Numéro de voie\t \n",
    "- Type de voie (rue, Avenue, boulevard, etc.)\t\n",
    "- Nom de la voie\t\n",
    "- Adresse postale\t\n",
    "- Complément d'adresse (facultatif)\n",
    "- Décennie de création du festival\n",
    "- Année de création du festival\n",
    "- Identifiant Agence A\n",
    "- identifiant CNM\n",
    "\n",
    "On a aussi fait le choix de ne conserver que les festivals se déroulant en France métropolitaine. \n"
   ]
  },
  {
   "cell_type": "code",
   "execution_count": null,
   "metadata": {},
   "outputs": [],
   "source": [
    "import pandas as pd\n",
    "\n",
    "# Charger le fichier CSV\n",
    "df = pd.read_csv('festivals_en_France.csv', sep=';', encoding='utf-8-sig')\n",
    "\n",
    "# Afficher les premières lignes pour vérifier le contenu\n",
    "print(df.head())\n",
    "\n",
    "\n",
    "# Supprimer les colonnes qui ne nous intéressent pas\n",
    "df = df.drop([\"Code postal (de la commune principale de déroulement)\", \"Code Insee commune\", \"Code Insee EPCI\", \"Libellé EPCI\", \"Numéro de voie\", \"Type de voie (rue, Avenue, boulevard, etc.)\", \"Nom de la voie\", \"Adresse postale\", \"Complément d'adresse (facultatif)\", \"Décennie de création du festival\", \"Année de création du festival\", \"Identifiant Agence A\", \"identifiant CNM\"], axis=1)\n",
    "\n",
    "# Afficher les colonnes restantes pour vérifier\n",
    "print(df.columns.tolist())\n",
    "\n",
    "\n",
    "# Supprimer les festivals hors France métropolitaine\n",
    "regions_non_metropolitaines = [\"Guadeloupe\", \"Martinique\", \"Guyane\", \"La Réunion\", \"Mayotte\", \"Polynésie française\", \"Saint-Pierre-et-Miquelon\", \"Saint-Barthélemy\"]\n",
    "df = df[~df[\"Région principale de déroulement\"].isin(regions_non_metropolitaines)]\n",
    "\n",
    "# Vérifier le contenu après suppression\n",
    "print(df[\"Région principale de déroulement\"].unique())\n"
   ]
  },
  {
   "cell_type": "markdown",
   "metadata": {},
   "source": [
    "### <u>3. Modification et mise en forme des données  \n",
    "\n",
    "**La catégorie \"pluridisciplinaire\"**  </u>\n",
    "\n",
    "Il s'agit ici d'expliciter la catégorie \"pluridisciplinaire\". En effet, l'utilisateur va cocher le type de festival qu'il souhaite : il faut donc spécifier à quelles disciplines appartient le festival pour que celui-ci apparaisse lorsque l'utilisateur cochera. Ainsi, si la colonne \"Sous-catégorie [...]\" n'est pas vide, on renomme la colonne \"Discipline dominante\" avec le nom de la sous-catégorie.\n",
    "\n",
    "Par exemple : le festival \"Rêves d'enfants\" est noté pluridisciplinaire et est un festival de littérature et de spectacle vivant. Il faut qu'il apparaisse lorsque l'utilisateur coche \"Littérature\" ou \"Spectacle vivant\". On renomme ainsi la colonne \"Discipline dominante\" \"Livre, littérature et Spectacle vivant\". \n",
    "\n"
   ]
  },
  {
   "cell_type": "code",
   "execution_count": null,
   "metadata": {},
   "outputs": [],
   "source": [
    "# Liste des colonnes sous-catégories que l'on analyse\n",
    "colonnes_sous_categories = [\n",
    "    \"Sous-catégorie spectacle vivant\",\n",
    "    \"Sous-catégorie musique\",\n",
    "    \"Sous-catégorie cinéma et audiovisuel\",\n",
    "    \"Sous-catégorie arts visuels et arts numériques\",\n",
    "    \"Sous-catégorie livre et littérature\"\n",
    "]\n",
    "\n",
    "# Dictionnaire pour associer les colonnes de sous-catégorie à leurs noms dans \"Discipline dominante\"\n",
    "mapping_discipline = {\n",
    "    \"Sous-catégorie spectacle vivant\": \"Spectacle vivant\",\n",
    "    \"Sous-catégorie musique\": \"Musique\",\n",
    "    \"Sous-catégorie cinéma et audiovisuel\": \"Cinéma et audiovisuel\",\n",
    "    \"Sous-catégorie arts visuels et arts numériques\": \"Arts visuels et numériques\",\n",
    "    \"Sous-catégorie livre et littérature\": \"Livre et littérature\"\n",
    "}\n",
    "\n",
    "# Fonction pour renommer la discipline dominante en respectant les correspondances spécifiques\n",
    "def renommer_discipline(row):\n",
    "    # Si \"Discipline dominante\" est pluridisciplinaire\n",
    "    if row[\"Discipline dominante\"] == \"Pluridisciplinaire\":\n",
    "        # Liste des disciplines à partir des sous-catégories non vides\n",
    "        sous_categories = [mapping_discipline[col] for col in colonnes_sous_categories if pd.notna(row[col])]\n",
    "        # Si au moins une sous-catégorie est trouvée, les utiliser\n",
    "        if sous_categories:\n",
    "            return \" et \".join(sous_categories)\n",
    "    # Sinon, garder la valeur d'origine\n",
    "    return row[\"Discipline dominante\"]\n",
    "\n",
    "# Appliquer la fonction sur le DataFrame\n",
    "df[\"Discipline dominante\"] = df.apply(renommer_discipline, axis=1)\n",
    "\n",
    "# Vérifier les résultats\n",
    "print(df[[\"Nom du festival\", \"Discipline dominante\"]].head())"
   ]
  }
 ],
 "metadata": {
  "kernelspec": {
   "display_name": "base",
   "language": "python",
   "name": "python3"
  },
  "language_info": {
   "codemirror_mode": {
    "name": "ipython",
    "version": 3
   },
   "file_extension": ".py",
   "mimetype": "text/x-python",
   "name": "python",
   "nbconvert_exporter": "python",
   "pygments_lexer": "ipython3",
   "version": "3.12.6"
  }
 },
 "nbformat": 4,
 "nbformat_minor": 2
}
