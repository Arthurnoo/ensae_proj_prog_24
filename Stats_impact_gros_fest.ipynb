{
 "cells": [
  {
   "cell_type": "markdown",
   "metadata": {},
   "source": [
    "# Analyse de l'impact des gros festivals sur les autres"
   ]
  },
  {
   "cell_type": "markdown",
   "metadata": {},
   "source": [
    "**L'objectif de cette partie est de regarder comment des festivals importants (en taille) impactent les autres festivals aux alentours.**\n",
    "<br> **On scrappe alors des données sur un site internet pour récupérer le nom de gros festivals (10 plus gros ou 50 plus gros), ensuite on cherche ces festivals dans notre base de données principale**"
   ]
  }
 ],
 "metadata": {
  "language_info": {
   "name": "python"
  }
 },
 "nbformat": 4,
 "nbformat_minor": 2
}
