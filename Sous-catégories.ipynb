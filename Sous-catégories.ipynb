{
 "cells": [
  {
   "cell_type": "markdown",
   "metadata": {},
   "source": [
    "\"Spectacle vivant\" :\n",
    "- \"Théâtre\"\n",
    "- \"Danse\"\n",
    "- \"Arts de la Rue\"\n",
    "- \"Cirque\"\n",
    "- \"Musique et Chant\"\n",
    "- \"Marionnettes et Théâtre d'objets\"\n",
    "- \"Spectacles pour Jeune Public\"\n",
    "- \"Performance et Arts Visuels\"\n",
    "- \"Humour et Café-Théâtre\"\n",
    "- \"Pluridisciplinaire\""
   ]
  },
  {
   "cell_type": "markdown",
   "metadata": {},
   "source": [
    "\"Musique\" \n",
    "- \"Musique classique et opéra\"\n",
    "- \"Musiques actuelles et populaires\"\n",
    "- \"Musiques du monde\"\n",
    "- \"Jazz, blues, RnB\"\n",
    "- \"Musique rock et métal\"\n",
    "- \"Musique instrumentale\"\n",
    "- \"Musique et festivals thématiques\"\n",
    "- \"Musiques électroniques\"\n",
    "- \"Musique pour jeunes publics\"\n",
    "- \"Musiques folk et patrimoniales\""
   ]
  },
  {
   "cell_type": "markdown",
   "metadata": {},
   "source": [
    "\"Cinéma, audiovisuel\" :\n",
    "- \"Cinéma généraliste long métrage\"\n",
    "- \"Cinéma généraliste court métrage\"\n",
    "- \"Audiovisuel et médias\"\n",
    "- \"Festivals thématiques\"\n",
    "- \"Cinématographies du monde\"\n",
    "- \"Rétrospectives et classiques\"\n",
    "- \"Techniques et métiers\"\n",
    "- \"Cinéma et musique\"\n",
    "- \"Cinéma expérimental et arts associés\"\n",
    "- \"Jeunes publics\"\n",
    "- \"Événements et projections spéciales\""
   ]
  },
  {
   "cell_type": "markdown",
   "metadata": {},
   "source": [
    "\"Arts visuels, arts numériques\"\n",
    "- \"Arts numériques et vidéo\"\n",
    "- \"Arts plastiques et visuels\"\n",
    "- \"Design et architecture\"\n",
    "- \"Arts urbains\"\n",
    "- \"Performance et multimédia\"\n",
    "- \"Littérature et illustration\"\n",
    "- \"Photographie, cinéma et audiovisuel\"\n",
    "- \"Art d’idées et sciences\"\n",
    "- \"Autres\""
   ]
  },
  {
   "cell_type": "markdown",
   "metadata": {},
   "source": [
    "\"Livre, littérature\" :\n",
    "- \"Romans et Littérature Générale\"\n",
    "- \"Bandes Dessinées et Illustrations\"\n",
    "- \"Jeunesse et Jeune Public\"\n",
    "- \"Policier et Thriller\"\n",
    "- \"Science-Fiction et Fantasy\"\n",
    "- \"Littératures régionales et du Monde\"\n",
    "- \"Édition et Métiers du Livre\"\n",
    "- \"Conférences et Rencontres Littéraires\"\n",
    "- \"Histoire et Patrimoine Littéraire\"\n",
    "- \"Pluridisciplinaire : arts et littératures croisés \""
   ]
  }
 ],
 "metadata": {
  "language_info": {
   "name": "python"
  }
 },
 "nbformat": 4,
 "nbformat_minor": 2
}
