{
 "cells": [
  {
   "cell_type": "code",
   "execution_count": 2,
   "metadata": {},
   "outputs": [
    {
     "name": "stdout",
     "output_type": "stream",
     "text": [
      "Collecting geopy\n",
      "  Downloading geopy-2.4.1-py3-none-any.whl.metadata (6.8 kB)\n",
      "Collecting geographiclib<3,>=1.52 (from geopy)\n",
      "  Downloading geographiclib-2.0-py3-none-any.whl.metadata (1.4 kB)\n",
      "Downloading geopy-2.4.1-py3-none-any.whl (125 kB)\n",
      "Downloading geographiclib-2.0-py3-none-any.whl (40 kB)\n",
      "Installing collected packages: geographiclib, geopy\n",
      "Successfully installed geographiclib-2.0 geopy-2.4.1\n"
     ]
    }
   ],
   "source": [
    "!pip install geopy"
   ]
  },
  {
   "cell_type": "markdown",
   "metadata": {},
   "source": [
    "# Importation des bibliothèques"
   ]
  },
  {
   "cell_type": "code",
   "execution_count": 12,
   "metadata": {},
   "outputs": [],
   "source": [
    "import requests\n",
    "from bs4 import BeautifulSoup\n",
    "import pandas as pd\n",
    "from geopy.geocoders import Nominatim\n",
    "import folium\n",
    "import os\n",
    "from IPython.display import IFrame\n",
    "import time\n",
    "\n"
   ]
  },
  {
   "cell_type": "markdown",
   "metadata": {},
   "source": [
    "# Chargement de la page web contenant les 50 festivals les plus populaires"
   ]
  },
  {
   "cell_type": "code",
   "execution_count": 4,
   "metadata": {},
   "outputs": [
    {
     "name": "stdout",
     "output_type": "stream",
     "text": [
      "Page chargée avec succès\n"
     ]
    }
   ],
   "source": [
    "# URL de la page\n",
    "url = \"https://infoconcert.com/festival/les-plus-consultes.html\"\n",
    "\n",
    "# Envoyer une requête HTTP\n",
    "response = requests.get(url)\n",
    "if response.status_code == 200:\n",
    "    print(\"Page chargée avec succès\")\n",
    "else:\n",
    "    print(f\"Erreur lors du chargement de la page : {response.status_code}\")\n",
    "    exit()\n"
   ]
  },
  {
   "cell_type": "markdown",
   "metadata": {},
   "source": [
    "# Extraction des données des festivals à partir de la page"
   ]
  },
  {
   "cell_type": "code",
   "execution_count": 5,
   "metadata": {},
   "outputs": [
    {
     "name": "stdout",
     "output_type": "stream",
     "text": [
      "Erreur lors de l'extraction d'une ligne : 'NoneType' object has no attribute 'find'\n",
      "Erreur lors de l'extraction d'une ligne : 'NoneType' object has no attribute 'find'\n",
      "Erreur lors de l'extraction d'une ligne : 'NoneType' object has no attribute 'find'\n",
      "Erreur lors de l'extraction d'une ligne : 'NoneType' object has no attribute 'find'\n",
      "Erreur lors de l'extraction d'une ligne : 'NoneType' object has no attribute 'find'\n",
      "Aperçu des festivals extraits :\n",
      "  Classement                      Nom                           Lieu  \\\n",
      "0         01    FESTIVAL RETRO C TROP                 Tilloloy\\n(80)   \n",
      "1         02        FESTIVAL DE NIMES                    Nimes\\n(30)   \n",
      "2         03        MONTJOUX FESTIVAL         Thonon Les Bains\\n(74)   \n",
      "3         04    PRINTEMPS DE PEROUGES  Saint Maurice de Remens\\n(01)   \n",
      "4         05  FESTIVAL DE CARCASSONNE              Carcassonne\\n(11)   \n",
      "\n",
      "                                                Lien  \n",
      "0  https://infoconcert.com/festival/festival-retr...  \n",
      "1  https://infoconcert.com/festival/festival-de-n...  \n",
      "2  https://infoconcert.com/festival/montjoux-fest...  \n",
      "3  https://infoconcert.com/festival/printemps-de-...  \n",
      "4  https://infoconcert.com/festival/festival-de-c...  \n"
     ]
    }
   ],
   "source": [
    "from bs4 import BeautifulSoup\n",
    "\n",
    "# Parser le contenu HTML avec BeautifulSoup\n",
    "soup = BeautifulSoup(response.content, \"html.parser\")\n",
    "\n",
    "# Trouver les sections correspondant aux festivals\n",
    "festival_rows = soup.find_all(\"div\", class_=\"row\")\n",
    "\n",
    "# Extraire les données\n",
    "festivals = []\n",
    "seen = set()  # Pour éviter les doublons\n",
    "for row in festival_rows:\n",
    "    try:\n",
    "        # Classement\n",
    "        ranking_tag = row.find(\"span\", class_=\"top-position-number\")\n",
    "        ranking = ranking_tag.text.strip() if ranking_tag else None\n",
    "\n",
    "        # Nom du festival\n",
    "        name_tag = row.find(\"div\", class_=\"top-line-name\").find(\"a\")\n",
    "        name = name_tag.text.strip() if name_tag else None\n",
    "        link = f\"https://infoconcert.com{name_tag['href']}\" if name_tag else None\n",
    "\n",
    "        # Lieu\n",
    "        location_tag = row.find(\"div\", class_=\"top-coming-concerts\")\n",
    "        location = location_tag.text.strip() if location_tag else None\n",
    "\n",
    "        # Vérifier que les données sont complètes et uniques\n",
    "        if name and ranking and (ranking, name) not in seen:\n",
    "            festivals.append({\n",
    "                \"Classement\": ranking,\n",
    "                \"Nom\": name,\n",
    "                \"Lieu\": location,\n",
    "                \"Lien\": link\n",
    "            })\n",
    "            seen.add((ranking, name))  # Marquer comme vu\n",
    "    except Exception as e:\n",
    "        print(f\"Erreur lors de l'extraction d'une ligne : {e}\")\n",
    "\n",
    "# Convertir en DataFrame\n",
    "df = pd.DataFrame(festivals)\n",
    "\n",
    "# Supprimer les doublons au cas où\n",
    "df = df.drop_duplicates()\n",
    "\n",
    "# Afficher un aperçu des données\n",
    "print(\"Aperçu des festivals extraits :\")\n",
    "print(df.head())\n"
   ]
  },
  {
   "cell_type": "markdown",
   "metadata": {},
   "source": [
    "# Nettoyage de la colonne \"Lieu\""
   ]
  },
  {
   "cell_type": "code",
   "execution_count": 6,
   "metadata": {},
   "outputs": [
    {
     "name": "stdout",
     "output_type": "stream",
     "text": [
      "Lieux nettoyés :\n",
      "  Classement                      Nom                     Lieu\n",
      "0         01    FESTIVAL RETRO C TROP                 Tilloloy\n",
      "1         02        FESTIVAL DE NIMES                    Nimes\n",
      "2         03        MONTJOUX FESTIVAL         Thonon Les Bains\n",
      "3         04    PRINTEMPS DE PEROUGES  Saint Maurice de Remens\n",
      "4         05  FESTIVAL DE CARCASSONNE              Carcassonne\n"
     ]
    }
   ],
   "source": [
    "# Nettoyer la colonne \"Lieu\"\n",
    "df['Lieu'] = df['Lieu'].str.replace(r'\\n\\(.*?\\)', '', regex=True).str.strip()\n",
    "\n",
    "# Vérifier le résultat\n",
    "print(\"Lieux nettoyés :\")\n",
    "print(df[['Classement', 'Nom', 'Lieu']].head())\n"
   ]
  },
  {
   "cell_type": "markdown",
   "metadata": {},
   "source": [
    "# Ajout des coordonnées géographiques des festivals"
   ]
  },
  {
   "cell_type": "code",
   "execution_count": 13,
   "metadata": {},
   "outputs": [
    {
     "name": "stdout",
     "output_type": "stream",
     "text": [
      "Geocoding : Tilloloy\n",
      "Geocoding : Saint Maurice de Remens\n",
      "Geocoding : Saint Etienne\n",
      "Geocoding : Luxey\n",
      "Geocoding : Albi\n",
      "Geocoding : La Rochelle\n",
      "Geocoding : Luxembourg\n",
      "Geocoding : Saint Julien En Genevois\n",
      "Geocoding : Clisson\n",
      "Geocoding : Gignac\n",
      "Geocoding : Carhaix Plouguer\n",
      "Geocoding : Argeles Sur Mer\n",
      "Geocoding : Le Barcares\n",
      "Geocoding : Bobital\n",
      "Geocoding : Bordeaux\n",
      "Geocoding : Monaco\n",
      "Geocoding : Marmande\n",
      "Geocoding : Ruoms\n",
      "Geocoding : Camaret Sur Mer\n",
      "Geocoding : Montreux\n",
      "Geocoding : Cognac\n",
      "Geocoding : Nort sur Erdre\n",
      "Geocoding : Marseille\n",
      "Geocoding : Clermont Ferrand\n",
      "Geocoding : Nantes\n",
      "Geocoding : Charleville Mezieres\n",
      "Geocoding : Enghien\n",
      "Geocoding : Surgeres\n",
      "Geocoding : Landerneau\n",
      "Geocoding : Aussonne\n",
      "Festivals avec coordonnées géographiques :\n",
      "                      Nom                     Lieu   Latitude  Longitude\n",
      "0   FESTIVAL RETRO C TROP                 Tilloloy  49.644546   2.749010\n",
      "3   PRINTEMPS DE PEROUGES  Saint Maurice de Remens  45.958549   5.278103\n",
      "5     PAROLES ET MUSIQUES            Saint Etienne  45.440147   4.387306\n",
      "7    MUSICALARUE FESTIVAL                    Luxey  44.263963  -0.520884\n",
      "9  FESTIVAL PAUSE GUITARE                     Albi  43.927755   2.147899\n"
     ]
    }
   ],
   "source": [
    "# Initialiser le géocodeur avec un délai\n",
    "geolocator = Nominatim(user_agent=\"festival_scraper\", timeout=10)\n",
    "\n",
    "def geocode_location(location):\n",
    "    try:\n",
    "        print(f\"Geocoding : {location}\")\n",
    "        geo = geolocator.geocode(location)\n",
    "        if geo:\n",
    "            return geo.latitude, geo.longitude\n",
    "        else:\n",
    "            return None, None\n",
    "    except Exception as e:\n",
    "        print(f\"Erreur de géocodage pour {location}: {e}\")\n",
    "        return None, None\n",
    "\n",
    "# Ajouter un délai entre les requêtes\n",
    "df[['Latitude', 'Longitude']] = df['Lieu'].apply(\n",
    "    lambda x: pd.Series(geocode_location(x) if pd.notna(x) else (None, None))\n",
    ")\n",
    "time.sleep(1)  # Délai pour éviter d'être bloqué par l'API\n",
    "\n",
    "# Filtrer les résultats valides\n",
    "df = df.dropna(subset=['Latitude', 'Longitude'])\n",
    "print(\"Festivals avec coordonnées géographiques :\")\n",
    "print(df[['Nom', 'Lieu', 'Latitude', 'Longitude']].head())\n"
   ]
  },
  {
   "cell_type": "markdown",
   "metadata": {},
   "source": [
    "# Sauvegarde des données dans un fichier CSV"
   ]
  },
  {
   "cell_type": "code",
   "execution_count": 17,
   "metadata": {},
   "outputs": [
    {
     "name": "stdout",
     "output_type": "stream",
     "text": [
      "Les données ont été sauvegardées dans '50_festivals_geolocalises.csv'.\n"
     ]
    }
   ],
   "source": [
    "df.to_csv(\"50_festivals_geolocalises.csv\", index=False, encoding=\"utf-8\")\n",
    "print(\"Les données ont été sauvegardées dans '50_festivals_geolocalises.csv'.\")"
   ]
  }
 ],
 "metadata": {
  "kernelspec": {
   "display_name": "base",
   "language": "python",
   "name": "python3"
  },
  "language_info": {
   "codemirror_mode": {
    "name": "ipython",
    "version": 3
   },
   "file_extension": ".py",
   "mimetype": "text/x-python",
   "name": "python",
   "nbconvert_exporter": "python",
   "pygments_lexer": "ipython3",
   "version": "3.12.7"
  }
 },
 "nbformat": 4,
 "nbformat_minor": 2
}
