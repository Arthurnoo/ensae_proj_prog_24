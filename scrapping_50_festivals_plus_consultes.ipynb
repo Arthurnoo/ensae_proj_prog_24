{
 "cells": [
  {
   "cell_type": "markdown",
   "metadata": {},
   "source": [
    "# Ce code extrait les festivals les plus consultés depuis le site \"infoconcert.com\".\n",
    "##  Il récupère d'abord la page web contenant les informations sur les festivals.\n",
    "## Ensuite, il extrait le classement, le nom et le lieu de chaque festival à l'aide de BeautifulSoup.\n",
    "## Puis les données sont nettoyées, doublons éliminés et stockées dans un DataFrame Pandas.\n",
    "## Ensuite, le lieu de chaque festival est géocodé pour obtenir ses coordonnées géographiques (latitude, longitude).\n",
    "## Enfin, les festivals avec des coordonnées valides sont conservés et affichés dans le DataFrame final.\n"
   ]
  },
  {
   "cell_type": "code",
   "execution_count": 1,
   "metadata": {},
   "outputs": [
    {
     "name": "stdout",
     "output_type": "stream",
     "text": [
      "Requirement already satisfied: geopy in /opt/conda/lib/python3.12/site-packages (2.4.1)\n",
      "Requirement already satisfied: geographiclib<3,>=1.52 in /opt/conda/lib/python3.12/site-packages (from geopy) (2.0)\n"
     ]
    }
   ],
   "source": [
    "!pip install geopy"
   ]
  },
  {
   "cell_type": "markdown",
   "metadata": {},
   "source": [
    "# Importation des bibliothèques"
   ]
  },
  {
   "cell_type": "code",
   "execution_count": null,
   "metadata": {},
   "outputs": [],
   "source": [
    "import requests\n",
    "from bs4 import BeautifulSoup\n",
    "import pandas as pd\n",
    "from geopy.geocoders import Nominatim\n",
    "import folium\n",
    "import os\n",
    "from IPython.display import IFrame\n",
    "import time"
   ]
  },
  {
   "cell_type": "markdown",
   "metadata": {},
   "source": [
    "# Chargement de la page web contenant les 50 festivals les plus populaires"
   ]
  },
  {
   "cell_type": "code",
   "execution_count": null,
   "metadata": {},
   "outputs": [
    {
     "name": "stdout",
     "output_type": "stream",
     "text": [
      "Page chargée avec succès\n"
     ]
    }
   ],
   "source": [
    "# URL de la page\n",
    "url = \"https://infoconcert.com/festival/les-plus-consultes.html\"\n",
    "\n",
    "# Envoyer une requête HTTP\n",
    "response = requests.get(url)\n",
    "if response.status_code == 200:\n",
    "    print(\"Page chargée avec succès\")\n",
    "else:\n",
    "    print(f\"Erreur lors du chargement de la page : {response.status_code}\")\n",
    "    exit()"
   ]
  },
  {
   "cell_type": "markdown",
   "metadata": {},
   "source": [
    "# Extraction des données des festivals à partir de la page"
   ]
  },
  {
   "cell_type": "code",
   "execution_count": null,
   "metadata": {},
   "outputs": [
    {
     "name": "stdout",
     "output_type": "stream",
     "text": [
      "Erreur lors de l'extraction d'une ligne : 'NoneType' object has no attribute 'find'\n",
      "Erreur lors de l'extraction d'une ligne : 'NoneType' object has no attribute 'find'\n",
      "Erreur lors de l'extraction d'une ligne : 'NoneType' object has no attribute 'find'\n",
      "Erreur lors de l'extraction d'une ligne : 'NoneType' object has no attribute 'find'\n",
      "Erreur lors de l'extraction d'une ligne : 'NoneType' object has no attribute 'find'\n",
      "Aperçu des festivals extraits :\n",
      "  Classement                          Nom                           Lieu  \\\n",
      "0         01            FESTIVAL DE NIMES                    Nimes\\n(30)   \n",
      "1         02       FESTIVAL PAUSE GUITARE                     Albi\\n(81)   \n",
      "2         03  FRANCOFOLIES DE LA ROCHELLE              La Rochelle\\n(17)   \n",
      "3         04        PRINTEMPS DE PEROUGES  Saint Maurice de Remens\\n(01)   \n",
      "4         05        FESTIVAL RETRO C TROP                 Tilloloy\\n(80)   \n",
      "\n",
      "                                                Lien  \n",
      "0  https://infoconcert.com/festival/festival-de-n...  \n",
      "1  https://infoconcert.com/festival/festival-paus...  \n",
      "2  https://infoconcert.com/festival/francofolies-...  \n",
      "3  https://infoconcert.com/festival/printemps-de-...  \n",
      "4  https://infoconcert.com/festival/festival-retr...  \n"
     ]
    }
   ],
   "source": [
    "from bs4 import BeautifulSoup\n",
    "\n",
    "# Parser le contenu HTML avec BeautifulSoup\n",
    "soup = BeautifulSoup(response.content, \"html.parser\")\n",
    "\n",
    "# Trouver les sections correspondant aux festivals\n",
    "festival_rows = soup.find_all(\"div\", class_=\"row\")\n",
    "\n",
    "# Extraire les données\n",
    "festivals = []\n",
    "seen = set()  # Pour éviter les doublons\n",
    "for row in festival_rows:\n",
    "    try:\n",
    "        # Classement\n",
    "        ranking_tag = row.find(\"span\", class_=\"top-position-number\")\n",
    "        ranking = ranking_tag.text.strip() if ranking_tag else None\n",
    "\n",
    "        # Nom du festival\n",
    "        name_tag = row.find(\"div\", class_=\"top-line-name\").find(\"a\")\n",
    "        name = name_tag.text.strip() if name_tag else None\n",
    "        link = f\"https://infoconcert.com{name_tag['href']}\" if name_tag else None\n",
    "\n",
    "        # Lieu\n",
    "        location_tag = row.find(\"div\", class_=\"top-coming-concerts\")\n",
    "        location = location_tag.text.strip() if location_tag else None\n",
    "\n",
    "        # Vérifier que les données sont complètes et uniques\n",
    "        if name and ranking and (ranking, name) not in seen:\n",
    "            festivals.append({\n",
    "                \"Classement\": ranking,\n",
    "                \"Nom\": name,\n",
    "                \"Lieu\": location,\n",
    "                \"Lien\": link\n",
    "            })\n",
    "            seen.add((ranking, name))  # Marquer comme vu\n",
    "    except Exception as e:\n",
    "        print(f\"Erreur lors de l'extraction d'une ligne : {e}\")\n",
    "\n",
    "# Convertir en DataFrame\n",
    "df = pd.DataFrame(festivals)\n",
    "\n",
    "# Supprimer les doublons au cas où\n",
    "df = df.drop_duplicates()\n",
    "\n",
    "# Afficher un aperçu des données\n",
    "print(\"Aperçu des festivals extraits :\")\n",
    "print(df.head())"
   ]
  },
  {
   "cell_type": "markdown",
   "metadata": {},
   "source": [
    "# Nettoyage de la colonne \"Lieu\""
   ]
  },
  {
   "cell_type": "code",
   "execution_count": null,
   "metadata": {},
   "outputs": [
    {
     "name": "stdout",
     "output_type": "stream",
     "text": [
      "Lieux nettoyés :\n",
      "  Classement                          Nom                     Lieu\n",
      "0         01            FESTIVAL DE NIMES                    Nimes\n",
      "1         02       FESTIVAL PAUSE GUITARE                     Albi\n",
      "2         03  FRANCOFOLIES DE LA ROCHELLE              La Rochelle\n",
      "3         04        PRINTEMPS DE PEROUGES  Saint Maurice de Remens\n",
      "4         05        FESTIVAL RETRO C TROP                 Tilloloy\n"
     ]
    }
   ],
   "source": [
    "# Nettoyer la colonne \"Lieu\"\n",
    "df['Lieu'] = df['Lieu'].str.replace(r'\\n\\(.*?\\)', '', regex=True).str.strip()\n",
    "\n",
    "# Vérifier le résultat\n",
    "print(\"Lieux nettoyés :\")\n",
    "print(df[['Classement', 'Nom', 'Lieu']].head())"
   ]
  },
  {
   "cell_type": "markdown",
   "metadata": {},
   "source": [
    "# Ajout des coordonnées géographiques des festivals"
   ]
  },
  {
   "cell_type": "code",
   "execution_count": null,
   "metadata": {},
   "outputs": [
    {
     "name": "stdout",
     "output_type": "stream",
     "text": [
      "Geocoding : Nimes\n",
      "Geocoding : Albi\n",
      "Geocoding : La Rochelle\n",
      "Geocoding : Saint Maurice de Remens\n",
      "Geocoding : Tilloloy\n",
      "Geocoding : Luxey\n",
      "Geocoding : Saint Etienne\n",
      "Geocoding : Le Barcares\n",
      "Geocoding : Nancy\n",
      "Geocoding : Vienne\n",
      "Geocoding : Gignac\n",
      "Geocoding : Le Poire Sur Vie\n",
      "Geocoding : Carcassonne\n",
      "Geocoding : Carhaix Plouguer\n",
      "Geocoding : Lyon\n",
      "Geocoding : Thonon Les Bains\n",
      "Geocoding : Aix Les Bains\n",
      "Geocoding : Luxembourg\n",
      "Geocoding : Enghien\n",
      "Geocoding : Marciac\n",
      "Geocoding : Ruoms\n",
      "Geocoding : Yzeures sur Creuse\n",
      "Geocoding : Manosque\n",
      "Geocoding : Montauban\n",
      "Geocoding : Carhaix Plouguer\n",
      "Geocoding : Saint Cloud\n",
      "Geocoding : Clisson\n",
      "Geocoding : Lyon\n",
      "Geocoding : Aulnoye Aymeries\n",
      "Geocoding : Paris\n",
      "Geocoding : Saint Julien En Genevois\n",
      "Geocoding : Dijon\n",
      "Geocoding : Bourges\n",
      "Geocoding : Marmande\n",
      "Geocoding : Nort sur Erdre\n",
      "Geocoding : Arras\n",
      "Geocoding : Nyon\n",
      "Geocoding : Camaret Sur Mer\n",
      "Geocoding : Marseille\n",
      "Geocoding : Clermont Ferrand\n",
      "Geocoding : Argeles Sur Mer\n",
      "Geocoding : Aussonne\n",
      "Geocoding : Bobital\n",
      "Geocoding : Montreux\n",
      "Geocoding : Charleville Mezieres\n",
      "Geocoding : Monaco\n",
      "Geocoding : Nantes\n",
      "Geocoding : Marseille\n",
      "Geocoding : Saint Malo Du Bois\n",
      "Geocoding : Vitrolles\n",
      "Festivals avec coordonnées géographiques :\n",
      "                           Nom                     Lieu   Latitude  Longitude\n",
      "0            FESTIVAL DE NIMES                    Nimes  43.837425   4.360069\n",
      "1       FESTIVAL PAUSE GUITARE                     Albi  43.927755   2.147899\n",
      "2  FRANCOFOLIES DE LA ROCHELLE              La Rochelle  46.159732  -1.151595\n",
      "3        PRINTEMPS DE PEROUGES  Saint Maurice de Remens  45.958549   5.278103\n",
      "4        FESTIVAL RETRO C TROP                 Tilloloy  49.644546   2.749010\n"
     ]
    }
   ],
   "source": [
    "# Initialiser le géocodeur avec un délai\n",
    "geolocator = Nominatim(user_agent=\"festival_scraper\", timeout=10)\n",
    "\n",
    "def geocode_location(location):\n",
    "    try:\n",
    "        print(f\"Geocoding : {location}\")\n",
    "        geo = geolocator.geocode(location)\n",
    "        if geo:\n",
    "            return geo.latitude, geo.longitude\n",
    "        else:\n",
    "            return None, None\n",
    "    except Exception as e:\n",
    "        print(f\"Erreur de géocodage pour {location}: {e}\")\n",
    "        return None, None\n",
    "\n",
    "# Ajouter un délai entre les requêtes\n",
    "df[['Latitude', 'Longitude']] = df['Lieu'].apply(\n",
    "    lambda x: pd.Series(geocode_location(x) if pd.notna(x) else (None, None))\n",
    ")\n",
    "time.sleep(1)  # Délai pour éviter d'être bloqué par l'API\n",
    "\n",
    "# Filtrer les résultats valides\n",
    "df = df.dropna(subset=['Latitude', 'Longitude'])\n",
    "print(\"Festivals avec coordonnées géographiques :\")\n",
    "print(df[['Nom', 'Lieu', 'Latitude', 'Longitude']].head())"
   ]
  },
  {
   "cell_type": "markdown",
   "metadata": {},
   "source": [
    "# Sauvegarde des données dans un fichier CSV"
   ]
  },
  {
   "cell_type": "code",
   "execution_count": 6,
   "metadata": {},
   "outputs": [
    {
     "name": "stdout",
     "output_type": "stream",
     "text": [
      "Les données ont été sauvegardées dans '50_festivals_geolocalises.csv'.\n"
     ]
    }
   ],
   "source": [
    "df.to_csv(\"50_festivals_geolocalises.csv\", index=False, encoding=\"utf-8\")\n",
    "print(\"Les données ont été sauvegardées dans '50_festivals_geolocalises.csv'.\")"
   ]
  }
 ],
 "metadata": {
  "kernelspec": {
   "display_name": "base",
   "language": "python",
   "name": "python3"
  },
  "language_info": {
   "codemirror_mode": {
    "name": "ipython",
    "version": 3
   },
   "file_extension": ".py",
   "mimetype": "text/x-python",
   "name": "python",
   "nbconvert_exporter": "python",
   "pygments_lexer": "ipython3",
   "version": "3.12.7"
  }
 },
 "nbformat": 4,
 "nbformat_minor": 2
}
