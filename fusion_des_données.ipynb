{
 "cells": [
  {
   "cell_type": "markdown",
   "metadata": {},
   "source": [
    "# Objectif du script\n",
    "\n",
    "Ce script vise à trouver des correspondances entre deux bases de données de festivals :\n",
    "\n",
    "- **`df_top_50`** : contient les 50 festivals les plus populaires, avec des informations sur leur nom et lieu.\n",
    "- **`df_france`** : contient des informations détaillées sur des festivals en France, y compris des coordonnées géographiques.\n",
    "\n",
    "## Objectif\n",
    "\n",
    "L'objectif est de trouver le meilleur match entre les festivals des deux bases en combinant :\n",
    "\n",
    "- La similarité des **noms de festivals**.\n",
    "- La similarité des **communes de déroulement**.\n",
    "- La **proximité géographique** des coordonnées.\n",
    "\n",
    "Une fois les correspondances identifiées, les données sont fusionnées pour enrichir les informations de `df_top_50` avec celles de `df_france`.\n",
    "\n",
    "Les festivals sans correspondance sont également identifiés et sauvegardés dans un fichier CSV pour une analyse ultérieure.\n"
   ]
  },
  {
   "cell_type": "code",
   "execution_count": 9,
   "metadata": {},
   "outputs": [
    {
     "name": "stdout",
     "output_type": "stream",
     "text": [
      "Requirement already satisfied: fuzzywuzzy in /opt/conda/lib/python3.12/site-packages (0.18.0)\n",
      "Requirement already satisfied: geopy in /opt/conda/lib/python3.12/site-packages (2.4.1)\n",
      "Requirement already satisfied: geographiclib<3,>=1.52 in /opt/conda/lib/python3.12/site-packages (from geopy) (2.0)\n",
      "Requirement already satisfied: folium in /opt/conda/lib/python3.12/site-packages (0.19.0)\n",
      "Requirement already satisfied: branca>=0.6.0 in /opt/conda/lib/python3.12/site-packages (from folium) (0.7.2)\n",
      "Requirement already satisfied: jinja2>=2.9 in /opt/conda/lib/python3.12/site-packages (from folium) (3.1.4)\n",
      "Requirement already satisfied: numpy in /opt/conda/lib/python3.12/site-packages (from folium) (2.2.0)\n",
      "Requirement already satisfied: requests in /opt/conda/lib/python3.12/site-packages (from folium) (2.32.3)\n",
      "Requirement already satisfied: xyzservices in /opt/conda/lib/python3.12/site-packages (from folium) (2024.9.0)\n",
      "Requirement already satisfied: MarkupSafe>=2.0 in /opt/conda/lib/python3.12/site-packages (from jinja2>=2.9->folium) (3.0.2)\n",
      "Requirement already satisfied: charset_normalizer<4,>=2 in /opt/conda/lib/python3.12/site-packages (from requests->folium) (3.4.0)\n",
      "Requirement already satisfied: idna<4,>=2.5 in /opt/conda/lib/python3.12/site-packages (from requests->folium) (3.10)\n",
      "Requirement already satisfied: urllib3<3,>=1.21.1 in /opt/conda/lib/python3.12/site-packages (from requests->folium) (2.2.3)\n",
      "Requirement already satisfied: certifi>=2017.4.17 in /opt/conda/lib/python3.12/site-packages (from requests->folium) (2024.8.30)\n",
      "Requirement already satisfied: python-Levenshtein in /opt/conda/lib/python3.12/site-packages (0.26.1)\n",
      "Requirement already satisfied: Levenshtein==0.26.1 in /opt/conda/lib/python3.12/site-packages (from python-Levenshtein) (0.26.1)\n",
      "Requirement already satisfied: rapidfuzz<4.0.0,>=3.9.0 in /opt/conda/lib/python3.12/site-packages (from Levenshtein==0.26.1->python-Levenshtein) (3.11.0)\n"
     ]
    }
   ],
   "source": [
    "!pip install fuzzywuzzy\n",
    "!pip install geopy\n",
    "!pip install folium\n",
    "!pip install python-Levenshtein"
   ]
  },
  {
   "cell_type": "markdown",
   "metadata": {},
   "source": [
    "# Importer les bibliothèques"
   ]
  },
  {
   "cell_type": "code",
   "execution_count": 10,
   "metadata": {},
   "outputs": [],
   "source": [
    "import numpy as np\n",
    "import pandas as pd\n",
    "import folium\n",
    "from geopy.distance import geodesic\n",
    "from fuzzywuzzy import process, fuzz\n"
   ]
  },
  {
   "cell_type": "markdown",
   "metadata": {},
   "source": [
    "# Charger les données"
   ]
  },
  {
   "cell_type": "code",
   "execution_count": null,
   "metadata": {},
   "outputs": [
    {
     "ename": "FileNotFoundError",
     "evalue": "[Errno 2] No such file or directory: 'festivals_en France.csv'",
     "output_type": "error",
     "traceback": [
      "\u001b[0;31m---------------------------------------------------------------------------\u001b[0m",
      "\u001b[0;31mFileNotFoundError\u001b[0m                         Traceback (most recent call last)",
      "Cell \u001b[0;32mIn[11], line 3\u001b[0m\n\u001b[1;32m      1\u001b[0m \u001b[38;5;66;03m# Charger les fichiers CSV\u001b[39;00m\n\u001b[1;32m      2\u001b[0m df_top_50 \u001b[38;5;241m=\u001b[39m pd\u001b[38;5;241m.\u001b[39mread_csv(\u001b[38;5;124m\"\u001b[39m\u001b[38;5;124m50_festivals_geolocalises.csv\u001b[39m\u001b[38;5;124m\"\u001b[39m)\n\u001b[0;32m----> 3\u001b[0m df_france \u001b[38;5;241m=\u001b[39m \u001b[43mpd\u001b[49m\u001b[38;5;241;43m.\u001b[39;49m\u001b[43mread_csv\u001b[49m\u001b[43m(\u001b[49m\u001b[38;5;124;43m\"\u001b[39;49m\u001b[38;5;124;43mfestivals_en France.csv\u001b[39;49m\u001b[38;5;124;43m\"\u001b[39;49m\u001b[43m,\u001b[49m\u001b[43m \u001b[49m\u001b[43msep\u001b[49m\u001b[38;5;241;43m=\u001b[39;49m\u001b[38;5;124;43m\"\u001b[39;49m\u001b[38;5;124;43m;\u001b[39;49m\u001b[38;5;124;43m\"\u001b[39;49m\u001b[43m,\u001b[49m\u001b[43m \u001b[49m\u001b[43mencoding\u001b[49m\u001b[38;5;241;43m=\u001b[39;49m\u001b[38;5;124;43m\"\u001b[39;49m\u001b[38;5;124;43mutf-8\u001b[39;49m\u001b[38;5;124;43m\"\u001b[39;49m\u001b[43m)\u001b[49m\n\u001b[1;32m      5\u001b[0m \u001b[38;5;66;03m# Afficher un aperçu des deux DataFrames\u001b[39;00m\n\u001b[1;32m      6\u001b[0m \u001b[38;5;28mprint\u001b[39m(\u001b[38;5;124m\"\u001b[39m\u001b[38;5;124mAperçu des 50 festivals les plus populaires :\u001b[39m\u001b[38;5;124m\"\u001b[39m)\n",
      "File \u001b[0;32m/opt/conda/lib/python3.12/site-packages/pandas/io/parsers/readers.py:1026\u001b[0m, in \u001b[0;36mread_csv\u001b[0;34m(filepath_or_buffer, sep, delimiter, header, names, index_col, usecols, dtype, engine, converters, true_values, false_values, skipinitialspace, skiprows, skipfooter, nrows, na_values, keep_default_na, na_filter, verbose, skip_blank_lines, parse_dates, infer_datetime_format, keep_date_col, date_parser, date_format, dayfirst, cache_dates, iterator, chunksize, compression, thousands, decimal, lineterminator, quotechar, quoting, doublequote, escapechar, comment, encoding, encoding_errors, dialect, on_bad_lines, delim_whitespace, low_memory, memory_map, float_precision, storage_options, dtype_backend)\u001b[0m\n\u001b[1;32m   1013\u001b[0m kwds_defaults \u001b[38;5;241m=\u001b[39m _refine_defaults_read(\n\u001b[1;32m   1014\u001b[0m     dialect,\n\u001b[1;32m   1015\u001b[0m     delimiter,\n\u001b[0;32m   (...)\u001b[0m\n\u001b[1;32m   1022\u001b[0m     dtype_backend\u001b[38;5;241m=\u001b[39mdtype_backend,\n\u001b[1;32m   1023\u001b[0m )\n\u001b[1;32m   1024\u001b[0m kwds\u001b[38;5;241m.\u001b[39mupdate(kwds_defaults)\n\u001b[0;32m-> 1026\u001b[0m \u001b[38;5;28;01mreturn\u001b[39;00m \u001b[43m_read\u001b[49m\u001b[43m(\u001b[49m\u001b[43mfilepath_or_buffer\u001b[49m\u001b[43m,\u001b[49m\u001b[43m \u001b[49m\u001b[43mkwds\u001b[49m\u001b[43m)\u001b[49m\n",
      "File \u001b[0;32m/opt/conda/lib/python3.12/site-packages/pandas/io/parsers/readers.py:620\u001b[0m, in \u001b[0;36m_read\u001b[0;34m(filepath_or_buffer, kwds)\u001b[0m\n\u001b[1;32m    617\u001b[0m _validate_names(kwds\u001b[38;5;241m.\u001b[39mget(\u001b[38;5;124m\"\u001b[39m\u001b[38;5;124mnames\u001b[39m\u001b[38;5;124m\"\u001b[39m, \u001b[38;5;28;01mNone\u001b[39;00m))\n\u001b[1;32m    619\u001b[0m \u001b[38;5;66;03m# Create the parser.\u001b[39;00m\n\u001b[0;32m--> 620\u001b[0m parser \u001b[38;5;241m=\u001b[39m \u001b[43mTextFileReader\u001b[49m\u001b[43m(\u001b[49m\u001b[43mfilepath_or_buffer\u001b[49m\u001b[43m,\u001b[49m\u001b[43m \u001b[49m\u001b[38;5;241;43m*\u001b[39;49m\u001b[38;5;241;43m*\u001b[39;49m\u001b[43mkwds\u001b[49m\u001b[43m)\u001b[49m\n\u001b[1;32m    622\u001b[0m \u001b[38;5;28;01mif\u001b[39;00m chunksize \u001b[38;5;129;01mor\u001b[39;00m iterator:\n\u001b[1;32m    623\u001b[0m     \u001b[38;5;28;01mreturn\u001b[39;00m parser\n",
      "File \u001b[0;32m/opt/conda/lib/python3.12/site-packages/pandas/io/parsers/readers.py:1620\u001b[0m, in \u001b[0;36mTextFileReader.__init__\u001b[0;34m(self, f, engine, **kwds)\u001b[0m\n\u001b[1;32m   1617\u001b[0m     \u001b[38;5;28mself\u001b[39m\u001b[38;5;241m.\u001b[39moptions[\u001b[38;5;124m\"\u001b[39m\u001b[38;5;124mhas_index_names\u001b[39m\u001b[38;5;124m\"\u001b[39m] \u001b[38;5;241m=\u001b[39m kwds[\u001b[38;5;124m\"\u001b[39m\u001b[38;5;124mhas_index_names\u001b[39m\u001b[38;5;124m\"\u001b[39m]\n\u001b[1;32m   1619\u001b[0m \u001b[38;5;28mself\u001b[39m\u001b[38;5;241m.\u001b[39mhandles: IOHandles \u001b[38;5;241m|\u001b[39m \u001b[38;5;28;01mNone\u001b[39;00m \u001b[38;5;241m=\u001b[39m \u001b[38;5;28;01mNone\u001b[39;00m\n\u001b[0;32m-> 1620\u001b[0m \u001b[38;5;28mself\u001b[39m\u001b[38;5;241m.\u001b[39m_engine \u001b[38;5;241m=\u001b[39m \u001b[38;5;28;43mself\u001b[39;49m\u001b[38;5;241;43m.\u001b[39;49m\u001b[43m_make_engine\u001b[49m\u001b[43m(\u001b[49m\u001b[43mf\u001b[49m\u001b[43m,\u001b[49m\u001b[43m \u001b[49m\u001b[38;5;28;43mself\u001b[39;49m\u001b[38;5;241;43m.\u001b[39;49m\u001b[43mengine\u001b[49m\u001b[43m)\u001b[49m\n",
      "File \u001b[0;32m/opt/conda/lib/python3.12/site-packages/pandas/io/parsers/readers.py:1880\u001b[0m, in \u001b[0;36mTextFileReader._make_engine\u001b[0;34m(self, f, engine)\u001b[0m\n\u001b[1;32m   1878\u001b[0m     \u001b[38;5;28;01mif\u001b[39;00m \u001b[38;5;124m\"\u001b[39m\u001b[38;5;124mb\u001b[39m\u001b[38;5;124m\"\u001b[39m \u001b[38;5;129;01mnot\u001b[39;00m \u001b[38;5;129;01min\u001b[39;00m mode:\n\u001b[1;32m   1879\u001b[0m         mode \u001b[38;5;241m+\u001b[39m\u001b[38;5;241m=\u001b[39m \u001b[38;5;124m\"\u001b[39m\u001b[38;5;124mb\u001b[39m\u001b[38;5;124m\"\u001b[39m\n\u001b[0;32m-> 1880\u001b[0m \u001b[38;5;28mself\u001b[39m\u001b[38;5;241m.\u001b[39mhandles \u001b[38;5;241m=\u001b[39m \u001b[43mget_handle\u001b[49m\u001b[43m(\u001b[49m\n\u001b[1;32m   1881\u001b[0m \u001b[43m    \u001b[49m\u001b[43mf\u001b[49m\u001b[43m,\u001b[49m\n\u001b[1;32m   1882\u001b[0m \u001b[43m    \u001b[49m\u001b[43mmode\u001b[49m\u001b[43m,\u001b[49m\n\u001b[1;32m   1883\u001b[0m \u001b[43m    \u001b[49m\u001b[43mencoding\u001b[49m\u001b[38;5;241;43m=\u001b[39;49m\u001b[38;5;28;43mself\u001b[39;49m\u001b[38;5;241;43m.\u001b[39;49m\u001b[43moptions\u001b[49m\u001b[38;5;241;43m.\u001b[39;49m\u001b[43mget\u001b[49m\u001b[43m(\u001b[49m\u001b[38;5;124;43m\"\u001b[39;49m\u001b[38;5;124;43mencoding\u001b[39;49m\u001b[38;5;124;43m\"\u001b[39;49m\u001b[43m,\u001b[49m\u001b[43m \u001b[49m\u001b[38;5;28;43;01mNone\u001b[39;49;00m\u001b[43m)\u001b[49m\u001b[43m,\u001b[49m\n\u001b[1;32m   1884\u001b[0m \u001b[43m    \u001b[49m\u001b[43mcompression\u001b[49m\u001b[38;5;241;43m=\u001b[39;49m\u001b[38;5;28;43mself\u001b[39;49m\u001b[38;5;241;43m.\u001b[39;49m\u001b[43moptions\u001b[49m\u001b[38;5;241;43m.\u001b[39;49m\u001b[43mget\u001b[49m\u001b[43m(\u001b[49m\u001b[38;5;124;43m\"\u001b[39;49m\u001b[38;5;124;43mcompression\u001b[39;49m\u001b[38;5;124;43m\"\u001b[39;49m\u001b[43m,\u001b[49m\u001b[43m \u001b[49m\u001b[38;5;28;43;01mNone\u001b[39;49;00m\u001b[43m)\u001b[49m\u001b[43m,\u001b[49m\n\u001b[1;32m   1885\u001b[0m \u001b[43m    \u001b[49m\u001b[43mmemory_map\u001b[49m\u001b[38;5;241;43m=\u001b[39;49m\u001b[38;5;28;43mself\u001b[39;49m\u001b[38;5;241;43m.\u001b[39;49m\u001b[43moptions\u001b[49m\u001b[38;5;241;43m.\u001b[39;49m\u001b[43mget\u001b[49m\u001b[43m(\u001b[49m\u001b[38;5;124;43m\"\u001b[39;49m\u001b[38;5;124;43mmemory_map\u001b[39;49m\u001b[38;5;124;43m\"\u001b[39;49m\u001b[43m,\u001b[49m\u001b[43m \u001b[49m\u001b[38;5;28;43;01mFalse\u001b[39;49;00m\u001b[43m)\u001b[49m\u001b[43m,\u001b[49m\n\u001b[1;32m   1886\u001b[0m \u001b[43m    \u001b[49m\u001b[43mis_text\u001b[49m\u001b[38;5;241;43m=\u001b[39;49m\u001b[43mis_text\u001b[49m\u001b[43m,\u001b[49m\n\u001b[1;32m   1887\u001b[0m \u001b[43m    \u001b[49m\u001b[43merrors\u001b[49m\u001b[38;5;241;43m=\u001b[39;49m\u001b[38;5;28;43mself\u001b[39;49m\u001b[38;5;241;43m.\u001b[39;49m\u001b[43moptions\u001b[49m\u001b[38;5;241;43m.\u001b[39;49m\u001b[43mget\u001b[49m\u001b[43m(\u001b[49m\u001b[38;5;124;43m\"\u001b[39;49m\u001b[38;5;124;43mencoding_errors\u001b[39;49m\u001b[38;5;124;43m\"\u001b[39;49m\u001b[43m,\u001b[49m\u001b[43m \u001b[49m\u001b[38;5;124;43m\"\u001b[39;49m\u001b[38;5;124;43mstrict\u001b[39;49m\u001b[38;5;124;43m\"\u001b[39;49m\u001b[43m)\u001b[49m\u001b[43m,\u001b[49m\n\u001b[1;32m   1888\u001b[0m \u001b[43m    \u001b[49m\u001b[43mstorage_options\u001b[49m\u001b[38;5;241;43m=\u001b[39;49m\u001b[38;5;28;43mself\u001b[39;49m\u001b[38;5;241;43m.\u001b[39;49m\u001b[43moptions\u001b[49m\u001b[38;5;241;43m.\u001b[39;49m\u001b[43mget\u001b[49m\u001b[43m(\u001b[49m\u001b[38;5;124;43m\"\u001b[39;49m\u001b[38;5;124;43mstorage_options\u001b[39;49m\u001b[38;5;124;43m\"\u001b[39;49m\u001b[43m,\u001b[49m\u001b[43m \u001b[49m\u001b[38;5;28;43;01mNone\u001b[39;49;00m\u001b[43m)\u001b[49m\u001b[43m,\u001b[49m\n\u001b[1;32m   1889\u001b[0m \u001b[43m\u001b[49m\u001b[43m)\u001b[49m\n\u001b[1;32m   1890\u001b[0m \u001b[38;5;28;01massert\u001b[39;00m \u001b[38;5;28mself\u001b[39m\u001b[38;5;241m.\u001b[39mhandles \u001b[38;5;129;01mis\u001b[39;00m \u001b[38;5;129;01mnot\u001b[39;00m \u001b[38;5;28;01mNone\u001b[39;00m\n\u001b[1;32m   1891\u001b[0m f \u001b[38;5;241m=\u001b[39m \u001b[38;5;28mself\u001b[39m\u001b[38;5;241m.\u001b[39mhandles\u001b[38;5;241m.\u001b[39mhandle\n",
      "File \u001b[0;32m/opt/conda/lib/python3.12/site-packages/pandas/io/common.py:882\u001b[0m, in \u001b[0;36mget_handle\u001b[0;34m(path_or_buf, mode, encoding, compression, memory_map, is_text, errors, storage_options)\u001b[0m\n\u001b[1;32m    873\u001b[0m         handle \u001b[38;5;241m=\u001b[39m \u001b[38;5;28mopen\u001b[39m(\n\u001b[1;32m    874\u001b[0m             handle,\n\u001b[1;32m    875\u001b[0m             ioargs\u001b[38;5;241m.\u001b[39mmode,\n\u001b[0;32m   (...)\u001b[0m\n\u001b[1;32m    878\u001b[0m             newline\u001b[38;5;241m=\u001b[39m\u001b[38;5;124m\"\u001b[39m\u001b[38;5;124m\"\u001b[39m,\n\u001b[1;32m    879\u001b[0m         )\n\u001b[1;32m    880\u001b[0m     \u001b[38;5;28;01melse\u001b[39;00m:\n\u001b[1;32m    881\u001b[0m         \u001b[38;5;66;03m# Binary mode\u001b[39;00m\n\u001b[0;32m--> 882\u001b[0m         handle \u001b[38;5;241m=\u001b[39m \u001b[38;5;28;43mopen\u001b[39;49m\u001b[43m(\u001b[49m\u001b[43mhandle\u001b[49m\u001b[43m,\u001b[49m\u001b[43m \u001b[49m\u001b[43mioargs\u001b[49m\u001b[38;5;241;43m.\u001b[39;49m\u001b[43mmode\u001b[49m\u001b[43m)\u001b[49m\n\u001b[1;32m    883\u001b[0m     handles\u001b[38;5;241m.\u001b[39mappend(handle)\n\u001b[1;32m    885\u001b[0m \u001b[38;5;66;03m# Convert BytesIO or file objects passed with an encoding\u001b[39;00m\n",
      "\u001b[0;31mFileNotFoundError\u001b[0m: [Errno 2] No such file or directory: 'festivals_en France.csv'"
     ]
    }
   ],
   "source": [
    "# Charger les fichiers CSV\n",
    "df_top_50 = pd.read_csv(\"50_festivals_geolocalises.csv\")\n",
    "df_france = pd.read_csv(\"festivals_en_France.csv\", sep=\";\", encoding=\"utf-8\")\n",
    "\n",
    "# Afficher un aperçu des deux DataFrames\n",
    "print(\"Aperçu des 50 festivals les plus populaires :\")\n",
    "print(df_top_50.head())\n",
    "\n",
    "print(\"\\nAperçu des festivals en France :\")\n",
    "print(df_france.head())\n"
   ]
  },
  {
   "cell_type": "code",
   "execution_count": null,
   "metadata": {},
   "outputs": [],
   "source": [
    "# Normaliser les noms pour la comparaison (en minuscule, suppression des espaces autour)\n",
    "df_top_50[\"Nom_clean\"] = df_top_50[\"Nom\"].str.lower().str.strip()\n",
    "df_top_50[\"Commune_clean\"] = df_top_50[\"Lieu\"].str.split(\"\\n\").str[0].str.lower().str.strip()\n",
    "\n",
    "df_france[\"Nom_clean\"] = df_france[\"Nom du festival\"].str.lower().str.strip()\n",
    "df_france[\"Commune_clean\"] = df_france[\"Commune principale de déroulement\"].str.lower().str.strip()\n"
   ]
  },
  {
   "cell_type": "markdown",
   "metadata": {},
   "source": [
    "# Nettoyer les noms pour la correspondance"
   ]
  },
  {
   "cell_type": "code",
   "execution_count": 1,
   "metadata": {},
   "outputs": [
    {
     "ename": "NameError",
     "evalue": "name 'df_france' is not defined",
     "output_type": "error",
     "traceback": [
      "\u001b[0;31m---------------------------------------------------------------------------\u001b[0m",
      "\u001b[0;31mNameError\u001b[0m                                 Traceback (most recent call last)",
      "Cell \u001b[0;32mIn[1], line 2\u001b[0m\n\u001b[1;32m      1\u001b[0m \u001b[38;5;66;03m# Afficher les noms des colonnes\u001b[39;00m\n\u001b[0;32m----> 2\u001b[0m \u001b[38;5;28mprint\u001b[39m(\u001b[43mdf_france\u001b[49m\u001b[38;5;241m.\u001b[39mcolumns\u001b[38;5;241m.\u001b[39mtolist())\n",
      "\u001b[0;31mNameError\u001b[0m: name 'df_france' is not defined"
     ]
    }
   ],
   "source": [
    "# Afficher les noms des colonnes\n",
    "print(df_france.columns.tolist())"
   ]
  },
  {
   "cell_type": "code",
   "execution_count": 18,
   "metadata": {},
   "outputs": [
    {
     "name": "stdout",
     "output_type": "stream",
     "text": [
      "['Nom du festival', 'Envergure territoriale', 'Région principale de déroulement', 'Département principal de déroulement', 'Commune principale de déroulement', 'Code postal (de la commune principale de déroulement)', 'Code Insee commune', 'Code Insee EPCI', 'Libellé EPCI', 'Numéro de voie', 'Type de voie (rue, Avenue, boulevard, etc.)', 'Nom de la voie', 'Adresse postale', \"Complément d'adresse (facultatif)\", 'Site internet du festival', 'Adresse e-mail', 'Décennie de création du festival', 'Année de création du festival', 'Discipline dominante', 'Sous-catégorie spectacle vivant', 'Sous-catégorie musique', 'Sous-catégorie Musique CNM', 'Sous-catégorie cinéma et audiovisuel', 'Sous-catégorie arts visuels et arts numériques', 'Sous-catégorie livre et littérature', 'Période principale de déroulement du festival', 'Identifiant Agence A', 'Identifiant', 'Géocodage xy', 'identifiant CNM', 'Latitude', 'Longitude']\n",
      "Festivals populaires :\n",
      "   Classement                     Nom                     Lieu  \\\n",
      "0           1   FESTIVAL RETRO C TROP                 Tilloloy   \n",
      "1           4   PRINTEMPS DE PEROUGES  Saint Maurice de Remens   \n",
      "2           6     PAROLES ET MUSIQUES            Saint Etienne   \n",
      "3           8    MUSICALARUE FESTIVAL                    Luxey   \n",
      "4          10  FESTIVAL PAUSE GUITARE                     Albi   \n",
      "\n",
      "                                                Lien   Latitude  Longitude  \n",
      "0  https://infoconcert.com/festival/festival-retr...  49.644546   2.749010  \n",
      "1  https://infoconcert.com/festival/printemps-de-...  45.958549   5.278103  \n",
      "2  https://infoconcert.com/festival/paroles-et-mu...  45.440147   4.387306  \n",
      "3  https://infoconcert.com/festival/musicalarue-f...  44.263963  -0.520884  \n",
      "4  https://infoconcert.com/festival/festival-paus...  43.927755   2.147899  \n",
      "\n",
      "Festivals en France :\n",
      "            Nom du festival Envergure territoriale  \\\n",
      "0          Festival andalou              Régionale   \n",
      "1  Festival Rêves d'enfants                    NaN   \n",
      "2      Printemps de Paroles                    NaN   \n",
      "3                 Pharaonic                    NaN   \n",
      "4           Sarcus Festival                    NaN   \n",
      "\n",
      "  Région principale de déroulement Département principal de déroulement  \\\n",
      "0       Provence-Alpes-Côte d'Azur                             Vaucluse   \n",
      "1       Provence-Alpes-Côte d'Azur                         Hautes-Alpes   \n",
      "2                    Île-de-France                       Seine-et-Marne   \n",
      "3             Auvergne-Rhône-Alpes                               Savoie   \n",
      "4              Centre-Val de Loire                       Indre-et-Loire   \n",
      "\n",
      "  Commune principale de déroulement  \\\n",
      "0                           Avignon   \n",
      "1                          Briançon   \n",
      "2                Bussy-Saint-Martin   \n",
      "3                          Chambéry   \n",
      "4              Chemillé-sur-Indrois   \n",
      "\n",
      "  Code postal (de la commune principale de déroulement) Code Insee commune  \\\n",
      "0                                              84000                 84007   \n",
      "1                                               5105                  5023   \n",
      "2                                              77600                 77059   \n",
      "3                                              73000                 73065   \n",
      "4                                              37460                 37069   \n",
      "\n",
      "  Code Insee EPCI                Libellé EPCI Numéro de voie  ...  \\\n",
      "0       248400251  CA du Grand Avignon (COGA)            NaN  ...   \n",
      "1       240500439          CC du Briançonnais            NaN  ...   \n",
      "2       247700594           Marne et Gondoire            NaN  ...   \n",
      "3       200069110        CA du Grand Chambéry            NaN  ...   \n",
      "4       200071587      CC Loches Sud Touraine            NaN  ...   \n",
      "\n",
      "  Sous-catégorie cinéma et audiovisuel  \\\n",
      "0                                  NaN   \n",
      "1                                  NaN   \n",
      "2                                  NaN   \n",
      "3                                  NaN   \n",
      "4                                  NaN   \n",
      "\n",
      "  Sous-catégorie arts visuels et arts numériques  \\\n",
      "0                                            NaN   \n",
      "1                                            NaN   \n",
      "2                                            NaN   \n",
      "3                                            NaN   \n",
      "4                                            NaN   \n",
      "\n",
      "  Sous-catégorie livre et littérature  \\\n",
      "0                                 NaN   \n",
      "1                             Fiction   \n",
      "2                                 NaN   \n",
      "3                                 NaN   \n",
      "4                                 NaN   \n",
      "\n",
      "  Période principale de déroulement du festival Identifiant Agence A  \\\n",
      "0          Avant-saison (1er janvier - 20 juin)                  NaN   \n",
      "1          Avant-saison (1er janvier - 20 juin)                  NaN   \n",
      "2          Avant-saison (1er janvier - 20 juin)                  NaN   \n",
      "3          Avant-saison (1er janvier - 20 juin)                  NaN   \n",
      "4      Après-saison (6 septembre - 31 décembre)                  NaN   \n",
      "\n",
      "       Identifiant                  Géocodage xy identifiant CNM   Latitude  \\\n",
      "0   FEST_84007_514  43.9352448339, 4.84071572505          1558.0  43.935245   \n",
      "1  FEST_05023_1069  44.8994986041, 6.64947524018             NaN  44.899499   \n",
      "2  FEST_77059_1118  48.8462454012, 2.67900406868             NaN  48.846245   \n",
      "3  FEST_73065_1434   45.583182552, 5.90903392417          2282.0  45.583183   \n",
      "4  FEST_37069_1605  47.1535504221, 1.15871292042          5668.0  47.153550   \n",
      "\n",
      "  Longitude  \n",
      "0  4.840716  \n",
      "1  6.649475  \n",
      "2  2.679004  \n",
      "3  5.909034  \n",
      "4  1.158713  \n",
      "\n",
      "[5 rows x 32 columns]\n"
     ]
    }
   ],
   "source": [
    "# Nettoyer les noms de colonnes pour supprimer les caractères invisibles\n",
    "df_france.columns = df_france.columns.str.strip().str.replace('\\ufeff', '')\n",
    "\n",
    "# Changement de la colonne correspondant aux coordonnées \n",
    "df_france[['Latitude', 'Longitude']] = df_france['Géocodage xy'].str.split(',', expand=True).astype(float)\n",
    "\n",
    "# Afficher les colonnes après nettoyage\n",
    "print(df_france.columns.tolist())\n",
    "\n",
    "# Afficher un aperçu\n",
    "print(\"Festivals populaires :\")\n",
    "print(df_top_50.head())\n",
    "print(\"\\nFestivals en France :\")\n",
    "print(df_france.head())\n"
   ]
  },
  {
   "cell_type": "code",
   "execution_count": 27,
   "metadata": {},
   "outputs": [],
   "source": [
    "def find_best_match(row, df_reference, threshold_distance=10, score_threshold=70):\n",
    "    \"\"\"\n",
    "    Trouve le meilleur match dans df_reference en combinant :\n",
    "    - Distance géographique\n",
    "    - Similitude des noms\n",
    "    - Similitude des communes\n",
    "    \"\"\"\n",
    "    best_match = None\n",
    "    best_score = -np.inf\n",
    "\n",
    "    for _, ref_row in df_reference.iterrows():\n",
    "        # Calculer la similarité des noms\n",
    "        score_name = fuzz.token_sort_ratio(row[\"Nom_clean\"], ref_row[\"Nom_clean\"])\n",
    "        score_commune = fuzz.token_sort_ratio(row[\"Commune_clean\"], ref_row[\"Commune_clean\"])\n",
    "\n",
    "        # Calculer la distance géographique si les coordonnées existent\n",
    "        if \"Latitude\" in row and \"Longitude\" in row and \"Latitude\" in ref_row and \"Longitude\" in ref_row:\n",
    "            try:\n",
    "                coords1 = (row[\"Latitude\"], row[\"Longitude\"])\n",
    "                coords2 = (ref_row[\"Latitude\"], ref_row[\"Longitude\"])\n",
    "                distance = geodesic(coords1, coords2).km\n",
    "            except:\n",
    "                distance = np.inf\n",
    "        else:\n",
    "            distance = np.inf\n",
    "\n",
    "        # Combiner les scores\n",
    "        combined_score = score_name + score_commune\n",
    "        if distance < threshold_distance:\n",
    "            combined_score += 20  # Bonus si distance faible\n",
    "\n",
    "        # Mettre à jour le meilleur match\n",
    "        if combined_score > best_score and score_name >= score_threshold:\n",
    "            best_match = ref_row[\"Nom du festival\"]\n",
    "            best_score = combined_score\n",
    "\n",
    "    return best_match\n"
   ]
  },
  {
   "cell_type": "code",
   "execution_count": 28,
   "metadata": {},
   "outputs": [
    {
     "name": "stdout",
     "output_type": "stream",
     "text": [
      "Recherche des correspondances...\n",
      "\n",
      "Correspondances trouvées :\n",
      "                               Nom                      Lieu  \\\n",
      "0            FESTIVAL RETRO C TROP                  Tilloloy   \n",
      "1            PRINTEMPS DE PEROUGES   Saint Maurice de Remens   \n",
      "2              PAROLES ET MUSIQUES             Saint Etienne   \n",
      "3             MUSICALARUE FESTIVAL                     Luxey   \n",
      "4           FESTIVAL PAUSE GUITARE                      Albi   \n",
      "5      FRANCOFOLIES DE LA ROCHELLE               La Rochelle   \n",
      "6                 LUXEXPO OPEN AIR                Luxembourg   \n",
      "7                 GUITARE EN SCENE  Saint Julien En Genevois   \n",
      "8                         HELLFEST                   Clisson   \n",
      "9            ECAUSSYSTEME FESTIVAL                    Gignac   \n",
      "10  FESTIVAL LES VIEILLES CHARRUES          Carhaix Plouguer   \n",
      "11                BACCHUS FESTIVAL           Argeles Sur Mer   \n",
      "12   LES DEFERLANTES SUD DE FRANCE               Le Barcares   \n",
      "13         BOBITAL, L'ARMOR A SONS                   Bobital   \n",
      "14                       XMAS VYBE                  Bordeaux   \n",
      "15     MONTE CARLO SUMMER FESTIVAL                    Monaco   \n",
      "16                        GAROROCK                  Marmande   \n",
      "17                  ALUNA FESTIVAL                     Ruoms   \n",
      "18       FESTIVAL DU BOUT DU MONDE           Camaret Sur Mer   \n",
      "19          MONTREUX JAZZ FESTIVAL                  Montreux   \n",
      "20           COGNAC BLUES PASSIONS                    Cognac   \n",
      "21              LA NUIT DE L'ERDRE            Nort sur Erdre   \n",
      "22                        MARSATAC                 Marseille   \n",
      "23                       EUROPAVOX          Clermont Ferrand   \n",
      "24                     BOOMIN FEST                    Nantes   \n",
      "25           FESTIVAL CABARET VERT      Charleville Mezieres   \n",
      "26                 FESTIVAL LASEMO                   Enghien   \n",
      "27         SURGERES BRASS FESTIVAL                  Surgeres   \n",
      "28   FETE DU BRUIT DANS LANDERNEAU                Landerneau   \n",
      "29                   ROSE FESTIVAL                  Aussonne   \n",
      "\n",
      "                    Festival match  \n",
      "0               Festival du Tonton  \n",
      "1             Printemps de Paroles  \n",
      "2              Paroles et musiques  \n",
      "3                      Musicalarue  \n",
      "4    Festival Pause guitare à Albi  \n",
      "5                 Les Francofolies  \n",
      "6                             None  \n",
      "7                 Guitare en scène  \n",
      "8                     Festiv'Elles  \n",
      "9                 L'autre festival  \n",
      "10           Les Vieilles Charrues  \n",
      "11                Festival Debussy  \n",
      "12                            None  \n",
      "13        Bobital - L'Armor à Sons  \n",
      "14                            None  \n",
      "15       Montélimar Agglo festival  \n",
      "16                        Garorock  \n",
      "17          Ardèche Aluna festival  \n",
      "18       Festival du Bout du Monde  \n",
      "19           Respire Jazz Festival  \n",
      "20  Festival Cognac Blues Passions  \n",
      "21              La Nuit De l'Erdre  \n",
      "22                        Marsatac  \n",
      "23                       Europavox  \n",
      "24                            None  \n",
      "25                 Le Cabaret Vert  \n",
      "26               La crème festival  \n",
      "27    Surgères Brass Band Festival  \n",
      "28   Fête du Bruit dans Landerneau  \n",
      "29                    Ze Fiestival  \n"
     ]
    }
   ],
   "source": [
    "# Appliquer la fonction de correspondance\n",
    "print(\"Recherche des correspondances...\")\n",
    "df_top_50[\"Festival match\"] = df_top_50.apply(\n",
    "    lambda row: find_best_match(row, df_france), axis=1\n",
    ")\n",
    "\n",
    "# Afficher les résultats\n",
    "print(\"\\nCorrespondances trouvées :\")\n",
    "print(df_top_50[[\"Nom\", \"Lieu\", \"Festival match\"]])\n"
   ]
  },
  {
   "cell_type": "code",
   "execution_count": 29,
   "metadata": {},
   "outputs": [
    {
     "name": "stdout",
     "output_type": "stream",
     "text": [
      "\n",
      "Festivals sans correspondance :\n",
      "                              Nom         Lieu\n",
      "6                LUXEXPO OPEN AIR   Luxembourg\n",
      "12  LES DEFERLANTES SUD DE FRANCE  Le Barcares\n",
      "14                      XMAS VYBE     Bordeaux\n",
      "24                    BOOMIN FEST       Nantes\n",
      "Les festivals sans match ont été sauvegardés dans 'festivals_sans_match.csv'.\n"
     ]
    }
   ],
   "source": [
    "# Festivals sans correspondance\n",
    "festivals_sans_match = df_top_50[df_top_50[\"Festival match\"].isna()]\n",
    "print(\"\\nFestivals sans correspondance :\")\n",
    "print(festivals_sans_match[[\"Nom\", \"Lieu\"]])\n",
    "\n",
    "# Sauvegarder les festivals sans match dans un fichier CSV\n",
    "festivals_sans_match.to_csv(\"festivals_sans_match.csv\", index=False, encoding=\"utf-8\")\n",
    "print(\"Les festivals sans match ont été sauvegardés dans 'festivals_sans_match.csv'.\")\n"
   ]
  },
  {
   "cell_type": "markdown",
   "metadata": {},
   "source": [
    "# Fonction pour réussir à fusionner les deux bases de données en cherchant des similitudes entre les données "
   ]
  },
  {
   "cell_type": "code",
   "execution_count": 19,
   "metadata": {},
   "outputs": [],
   "source": [
    "def find_best_match(row, df_reference, threshold_distance=5.0, score_threshold=80):\n",
    "    \"\"\"\n",
    "    Trouve le meilleur match dans df_reference en combinant les critères :\n",
    "    - Distance géographique\n",
    "    - Similitude des noms\n",
    "    - Similitude des communes\n",
    "    \"\"\"\n",
    "    best_match = None\n",
    "    best_score = -np.inf\n",
    "\n",
    "    # Comparer chaque festival dans df_reference\n",
    "    for _, ref_row in df_reference.iterrows():\n",
    "        score = 0\n",
    "\n",
    "        # 1. Correspondance géographique\n",
    "        if pd.notna(row[\"Latitude\"]) and pd.notna(row[\"Longitude\"]) \\\n",
    "           and pd.notna(ref_row[\"Latitude\"]) and pd.notna(ref_row[\"Longitude\"]):\n",
    "            distance = geodesic((row[\"Latitude\"], row[\"Longitude\"]), \n",
    "                                (ref_row[\"Latitude\"], ref_row[\"Longitude\"])).km\n",
    "            if distance <= threshold_distance:\n",
    "                score += 50  # Ajouter des points si les coordonnées sont proches\n",
    "\n",
    "        # 2. Correspondance par nom du festival\n",
    "        if pd.notna(row[\"Nom\"]) and pd.notna(ref_row[\"Nom du festival\"]):\n",
    "            name_similarity = fuzz.token_sort_ratio(row[\"Nom\"], ref_row[\"Nom du festival\"])\n",
    "            if name_similarity >= score_threshold:\n",
    "                score += name_similarity  # Ajouter des points selon la similarité du nom\n",
    "\n",
    "        # 3. Correspondance par commune\n",
    "        if pd.notna(row[\"Lieu\"]) and pd.notna(ref_row[\"Commune principale de déroulement\"]):\n",
    "            commune_similarity = fuzz.token_sort_ratio(row[\"Lieu\"], ref_row[\"Commune principale de déroulement\"])\n",
    "            if commune_similarity >= score_threshold:\n",
    "                score += commune_similarity  # Ajouter des points selon la similarité de la commune\n",
    "\n",
    "        # Mettre à jour le meilleur match\n",
    "        if score > best_score:\n",
    "            best_score = score\n",
    "            best_match = ref_row[\"Nom du festival\"]\n",
    "\n",
    "    return best_match\n"
   ]
  },
  {
   "cell_type": "code",
   "execution_count": 20,
   "metadata": {},
   "outputs": [
    {
     "name": "stdout",
     "output_type": "stream",
     "text": [
      "\n",
      "Correspondances trouvées :\n",
      "                      Nom                     Lieu  \\\n",
      "0   FESTIVAL RETRO C TROP                 Tilloloy   \n",
      "1   PRINTEMPS DE PEROUGES  Saint Maurice de Remens   \n",
      "2     PAROLES ET MUSIQUES            Saint Etienne   \n",
      "3    MUSICALARUE FESTIVAL                    Luxey   \n",
      "4  FESTIVAL PAUSE GUITARE                     Albi   \n",
      "\n",
      "                  Festival match  \n",
      "0                   Rétro C trop  \n",
      "1           Printemps de Paroles  \n",
      "2            Paroles et musiques  \n",
      "3                    Musicalarue  \n",
      "4  Festival Pause guitare à Albi  \n"
     ]
    }
   ],
   "source": [
    "# Appliquer la fonction de correspondance à chaque festival populaire\n",
    "df_top_50[\"Festival match\"] = df_top_50.apply(\n",
    "    lambda row: find_best_match(row, df_france), axis=1\n",
    ")\n",
    "\n",
    "# Afficher les correspondances trouvées\n",
    "print(\"\\nCorrespondances trouvées :\")\n",
    "print(df_top_50[[\"Nom\", \"Lieu\", \"Festival match\"]].head())\n"
   ]
  },
  {
   "cell_type": "markdown",
   "metadata": {},
   "source": [
    "# On fusionne les bases de données à partir des similitudes trouvées "
   ]
  },
  {
   "cell_type": "code",
   "execution_count": 21,
   "metadata": {},
   "outputs": [
    {
     "name": "stdout",
     "output_type": "stream",
     "text": [
      "\n",
      "Données fusionnées :\n",
      "   Classement                     Nom                     Lieu  \\\n",
      "0           1   FESTIVAL RETRO C TROP                 Tilloloy   \n",
      "1           4   PRINTEMPS DE PEROUGES  Saint Maurice de Remens   \n",
      "2           6     PAROLES ET MUSIQUES            Saint Etienne   \n",
      "3           8    MUSICALARUE FESTIVAL                    Luxey   \n",
      "4          10  FESTIVAL PAUSE GUITARE                     Albi   \n",
      "\n",
      "                                                Lien  Latitude_top50  \\\n",
      "0  https://infoconcert.com/festival/festival-retr...       49.644546   \n",
      "1  https://infoconcert.com/festival/printemps-de-...       45.958549   \n",
      "2  https://infoconcert.com/festival/paroles-et-mu...       45.440147   \n",
      "3  https://infoconcert.com/festival/musicalarue-f...       44.263963   \n",
      "4  https://infoconcert.com/festival/festival-paus...       43.927755   \n",
      "\n",
      "   Longitude_top50                 Festival match  \\\n",
      "0         2.749010                   Rétro C trop   \n",
      "1         5.278103           Printemps de Paroles   \n",
      "2         4.387306            Paroles et musiques   \n",
      "3        -0.520884                    Musicalarue   \n",
      "4         2.147899  Festival Pause guitare à Albi   \n",
      "\n",
      "                 Nom du festival Envergure territoriale  \\\n",
      "0                   Rétro C trop                    NaN   \n",
      "1           Printemps de Paroles                    NaN   \n",
      "2            Paroles et musiques                    NaN   \n",
      "3                    Musicalarue                    NaN   \n",
      "4  Festival Pause guitare à Albi                    NaN   \n",
      "\n",
      "  Région principale de déroulement  ... Sous-catégorie cinéma et audiovisuel  \\\n",
      "0                  Hauts-de-France  ...                                  NaN   \n",
      "1                    Île-de-France  ...                                  NaN   \n",
      "2             Auvergne-Rhône-Alpes  ...                                  NaN   \n",
      "3               Nouvelle-Aquitaine  ...                                  NaN   \n",
      "4                        Occitanie  ...                                  NaN   \n",
      "\n",
      "  Sous-catégorie arts visuels et arts numériques  \\\n",
      "0                                            NaN   \n",
      "1                                            NaN   \n",
      "2                                            NaN   \n",
      "3                                            NaN   \n",
      "4                                            NaN   \n",
      "\n",
      "  Sous-catégorie livre et littérature  \\\n",
      "0                                 NaN   \n",
      "1                                 NaN   \n",
      "2                                 NaN   \n",
      "3                                 NaN   \n",
      "4                                 NaN   \n",
      "\n",
      "  Période principale de déroulement du festival Identifiant Agence A  \\\n",
      "0                Saison (21 juin - 5 septembre)                  NaN   \n",
      "1          Avant-saison (1er janvier - 20 juin)                  NaN   \n",
      "2          Avant-saison (1er janvier - 20 juin)                  NaN   \n",
      "3                Saison (21 juin - 5 septembre)                LA132   \n",
      "4                Saison (21 juin - 5 septembre)                  NaN   \n",
      "\n",
      "       Identifiant                    Géocodage xy identifiant CNM  \\\n",
      "0  FEST_80759_6581    49.6416492977, 2.74418919931          2749.0   \n",
      "1  FEST_77059_1118    48.8462454012, 2.67900406868             NaN   \n",
      "2  FEST_42218_5822    45.4301235512, 4.37913997076             NaN   \n",
      "3  FEST_40167_3505  44.2207948584, -0.515670146445             NaN   \n",
      "4   FEST_81004_116    43.9258213622, 2.14686328555             NaN   \n",
      "\n",
      "  Latitude_france Longitude_france  \n",
      "0       49.641649         2.744189  \n",
      "1       48.846245         2.679004  \n",
      "2       45.430124         4.379140  \n",
      "3       44.220795        -0.515670  \n",
      "4       43.925821         2.146863  \n",
      "\n",
      "[5 rows x 39 columns]\n",
      "Les données ont été sauvegardées dans 'festivals_fusionnes_complets.csv'.\n"
     ]
    }
   ],
   "source": [
    "# Fusionner les deux DataFrames sur le match des festivals\n",
    "df_merged = pd.merge(\n",
    "    df_top_50,\n",
    "    df_france,\n",
    "    left_on=\"Festival match\",\n",
    "    right_on=\"Nom du festival\",\n",
    "    how=\"left\",\n",
    "    suffixes=(\"_top50\", \"_france\")\n",
    ")\n",
    "\n",
    "# Afficher un aperçu des données fusionnées\n",
    "print(\"\\nDonnées fusionnées :\")\n",
    "print(df_merged.head())\n",
    "\n",
    "# Sauvegarder les données fusionnées dans un CSV\n",
    "df_merged.to_csv(\"festivals_fusionnes_complets.csv\", index=False, encoding=\"utf-8\")\n",
    "print(\"Les données ont été sauvegardées dans 'festivals_fusionnes_complets.csv'.\")\n"
   ]
  },
  {
   "cell_type": "markdown",
   "metadata": {},
   "source": [
    "# On cherche les raisons pour lequelles certains festivals n'ont pas trouvé de match dans la base qui recense tous les festivals en France"
   ]
  },
  {
   "cell_type": "code",
   "execution_count": 25,
   "metadata": {},
   "outputs": [
    {
     "name": "stdout",
     "output_type": "stream",
     "text": [
      "Festivals sans correspondance :\n",
      "Empty DataFrame\n",
      "Columns: [Nom, Lieu]\n",
      "Index: []\n",
      "Les festivals sans match ont été sauvegardés dans 'festivals_sans_match.csv'.\n"
     ]
    }
   ],
   "source": [
    "# Filtrer les festivals où 'Festival match' est NaN ou vide\n",
    "festivals_sans_match = df_top_50[df_top_50[\"Festival match\"].isna() | (df_top_50[\"Festival match\"] == \"\")]\n",
    "\n",
    "# Afficher les festivals sans correspondance\n",
    "print(\"Festivals sans correspondance :\")\n",
    "print(festivals_sans_match[[\"Nom\", \"Lieu\"]])\n",
    "\n",
    "# Sauvegarder ces festivals dans un CSV pour analyse ultérieure\n",
    "festivals_sans_match.to_csv(\"festivals_sans_match.csv\", index=False, encoding=\"utf-8\")\n",
    "print(\"Les festivals sans match ont été sauvegardés dans 'festivals_sans_match.csv'.\")\n"
   ]
  },
  {
   "cell_type": "code",
   "execution_count": 24,
   "metadata": {},
   "outputs": [
    {
     "name": "stdout",
     "output_type": "stream",
     "text": [
      "Valeurs uniques dans 'Festival match' :\n",
      "['Rétro C trop' 'Printemps de Paroles' 'Paroles et musiques' 'Musicalarue'\n",
      " 'Festival Pause guitare à Albi' 'Fema - Festival La Rochelle Cinéma'\n",
      " 'Festival andalou' 'Guitare en scène' 'Hellfest Open Air'\n",
      " 'Or notes festival' 'Les Vieilles Charrues' 'Maghreb si loin, si proche'\n",
      " \"Bobital - L'Armor à Sons\"\n",
      " \"Rencontres Cinématographiques La Classe Ouvrière C'est Pas du Cinéma\"\n",
      " 'Les soirées Sacha Guitry' 'Garorock' 'Ardèche Aluna festival'\n",
      " 'Festival du Bout du Monde' \"Festival d'Humour et de Jazz\"\n",
      " 'Festival Cognac Blues Passions' \"La Nuit De l'Erdre\" 'Marsatac'\n",
      " 'Europavox' 'Nature Nomade' 'Salon des littératures maudites'\n",
      " \"Festival Flam'\" 'Surgères Brass Band Festival'\n",
      " 'Fête du Bruit dans Landerneau' 'Festival russe']\n"
     ]
    }
   ],
   "source": [
    "# Vérifier les valeurs uniques dans Festival match\n",
    "print(\"Valeurs uniques dans 'Festival match' :\")\n",
    "print(df_top_50[\"Festival match\"].unique())\n"
   ]
  },
  {
   "cell_type": "code",
   "execution_count": 23,
   "metadata": {},
   "outputs": [
    {
     "name": "stdout",
     "output_type": "stream",
     "text": [
      "Festivals sans correspondance sauvegardés dans 'festivals_sans_match.csv'.\n",
      "Festivals sans correspondance :\n",
      "Empty DataFrame\n",
      "Columns: [Nom, Lieu]\n",
      "Index: []\n"
     ]
    }
   ],
   "source": [
    "# Filtrer les festivals sans correspondance\n",
    "festivals_sans_match = df_top_50[df_top_50[\"Festival match\"].isna()]\n",
    "\n",
    "# Sauvegarder les festivals sans correspondance dans un CSV\n",
    "festivals_sans_match.to_csv(\"festivals_sans_match.csv\", index=False, encoding=\"utf-8\")\n",
    "print(\"Festivals sans correspondance sauvegardés dans 'festivals_sans_match.csv'.\")\n",
    "\n",
    "# Afficher un aperçu\n",
    "print(\"Festivals sans correspondance :\")\n",
    "print(festivals_sans_match[[\"Nom\", \"Lieu\"]])\n"
   ]
  }
 ],
 "metadata": {
  "kernelspec": {
   "display_name": "base",
   "language": "python",
   "name": "python3"
  },
  "language_info": {
   "codemirror_mode": {
    "name": "ipython",
    "version": 3
   },
   "file_extension": ".py",
   "mimetype": "text/x-python",
   "name": "python",
   "nbconvert_exporter": "python",
   "pygments_lexer": "ipython3",
   "version": "3.12.7"
  }
 },
 "nbformat": 4,
 "nbformat_minor": 2
}
