{
 "cells": [
  {
   "cell_type": "markdown",
   "metadata": {},
   "source": [
    "# Filtre des réponses des utilisateurs pour proposer des festivals qui correspondent"
   ]
  },
  {
   "cell_type": "markdown",
   "metadata": {},
   "source": [
    "**Ce qui nous intéresse dans cette partie est d'utiliser les réponses des utilisateurs pour déterminer des festivals qui correspondent aux attentes.**\n",
    "<br>**Pour ce faire, nous utilisons les réponses provenant de question.py et envoyons les festivals dans app.py**"
   ]
  }
 ],
 "metadata": {
  "language_info": {
   "name": "python"
  }
 },
 "nbformat": 4,
 "nbformat_minor": 2
}
