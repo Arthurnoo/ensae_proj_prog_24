{
 "cells": [
  {
   "cell_type": "markdown",
   "metadata": {},
   "source": [
    "# Transformation des variables text en num\n",
    "\n",
    "**Ce code est destiné à transformer les réponses de l'utilisateur qui peuvent être à la fois numérique mais aussi textuelles en variables numériques.**"
   ]
  },
  {
   "cell_type": "markdown",
   "metadata": {},
   "source": [
    "Voici les variables que nous récupérons des réponses de l'utilisateur : \n",
    "- Nom\n",
    "- Prénom\n",
    "- Adresse\n",
    "- Distance du festival\n",
    "- Date\n",
    "- Catégorie de festival\n",
    "- Sous-catégorie\n",
    "- Taille du festival souhaité\n",
    "- Budget\n",
    "- Durée du festival"
   ]
  },
  {
   "cell_type": "markdown",
   "metadata": {},
   "source": [
    "## 1. Adresse\n",
    "\n",
    "**Le premier objectif est de transformer l'adresse postale en coordonnées géographqiues**\n",
    "\n",
    "Le code est récupéré du site officiel de data.gouv pour réaliser la requête API : https://guides.data.gouv.fr/reutiliser-des-donnees/utiliser-les-api-geographiques/utiliser-lapi-adresse/geocoder-des-adresses-pratique.\n",
    "Cela nous permet de transformer l'adresse postale au format : Numéro de rue Type de rue Nom de la rue Ville Pays Code postal (5 Avenue Le Chatelier Palaiseau France 91120)"
   ]
  },
  {
   "cell_type": "code",
   "execution_count": null,
   "metadata": {},
   "outputs": [
    {
     "name": "stdout",
     "output_type": "stream",
     "text": [
      "{'label': '24 Rue des diables bleus 73000 Chambéry', 'score': 0.9657545454545454, 'housenumber': '24', 'id': '73065_1110_00024', 'name': '24 Rue des diables bleus', 'postcode': '73000', 'citycode': '73065', 'x': 927213.22, 'y': 6501342.72, 'city': 'Chambéry', 'context': '73, Savoie, Auvergne-Rhône-Alpes', 'type': 'housenumber', 'importance': 0.6233, 'street': 'Rue des diables bleus', 'lon': 5.91394, 'lat': 45.573853}\n"
     ]
    }
   ],
   "source": [
    "import requests\n",
    "ADDOK_URL = 'http://api-adresse.data.gouv.fr/search/'\n",
    "params = {\n",
    "    'q': '24 Rue des Diables Bleus 73000 Chambéry',\n",
    "    'limit': 5\n",
    "}\n",
    "response = requests.get(ADDOK_URL, params=params)\n",
    "j = response.json()\n",
    "if len(j.get('features')) > 0:\n",
    "    first_result = j.get('features')[0]\n",
    "    lon, lat = first_result.get('geometry').get('coordinates')\n",
    "    first_result_all_infos = { **first_result.get('properties'), **{\"lon\": lon, \"lat\": lat}}\n",
    "    print(first_result_all_infos)\n",
    "else:\n",
    "    print('No result')"
   ]
  },
  {
   "cell_type": "markdown",
   "metadata": {},
   "source": [
    "On améliore le code pour qu'il corresponde plus à nos demandes, à savoir retourner uniquement les coordonnées géographiques. On gère aussi les erreurs possibles et on utilise ce code comme une fonction."
   ]
  },
  {
   "cell_type": "code",
   "execution_count": 18,
   "metadata": {},
   "outputs": [],
   "source": [
    "import requests\n",
    "\n",
    "def adresse_to_coordgeo(adresse):\n",
    "    \"\"\"Convertit une adresse en coordonnées géographiques en utilisant l'API de DataGouv.\"\"\"\n",
    "    ADDOK_URL = 'http://api-adresse.data.gouv.fr/search/'\n",
    "    params = {\n",
    "        'q': adresse,\n",
    "        'limit': 1  # On ne veut que le premier résultat\n",
    "    }\n",
    "    \n",
    "    try:\n",
    "        response = requests.get(ADDOK_URL, params=params)\n",
    "        response.raise_for_status()  # Vérifie que la requête a réussi\n",
    "        j = response.json()\n",
    "        \n",
    "        # Vérifier si des résultats ont été trouvés\n",
    "        if len(j.get('features')) > 0:\n",
    "            first_result = j.get('features')[0]\n",
    "            lon, lat = first_result.get('geometry').get('coordinates')\n",
    "            first_result_all_infos = {**first_result.get('properties'), **{\"lon\": lon, \"lat\": lat}}\n",
    "            return (lat, lon)\n",
    "        else:\n",
    "            print('No result')\n",
    "            return None\n",
    "    except requests.exceptions.RequestException as e:\n",
    "        print(f\"Erreur lors de l'appel à l'API : {e}\")\n",
    "        return None"
   ]
  },
  {
   "cell_type": "code",
   "execution_count": null,
   "metadata": {},
   "outputs": [
    {
     "data": {
      "text/plain": [
       "True"
      ]
     },
     "execution_count": 20,
     "metadata": {},
     "output_type": "execute_result"
    }
   ],
   "source": [
    "adresse_to_coordgeo('5 Avenue Le Chatelier Palaiseau France 91120')"
   ]
  },
  {
   "cell_type": "markdown",
   "metadata": {},
   "source": [
    "On vérifie pour 10 adresses que les coordonnés géographiques sont justes : "
   ]
  },
  {
   "cell_type": "code",
   "execution_count": null,
   "metadata": {},
   "outputs": [],
   "source": [
    "Adresse = ((\"24 Rue des Diables Bleus, 73000 Chambéry, France\",(45.57406997680664, 5.914342880249023)), \n",
    "(\"5 Avenue Victor Hugo, 75016 Paris, France\", (48.86894226074219, 2.2836291790008545)), \n",
    "(\"10 Place de la Bourse, 33000 Bordeaux, France\", (44.84135437011719, -0.5704167485237122)), \n",
    "(\"17 Rue Saint-Nicolas, 54000 Nancy, France\", (48.68845748901367, 6.18630313873291)), \n",
    "(\"12 Rue du Château, 44000 Nantes, France\", (47.21629333496094, -1.55164635181427)), \n",
    "(\"8 Rue de la Poulaillerie, 69002 Lyon, France\", (45.76422882080078, 4.833735942840576)), \n",
    "(\"7 Rue de la Liberté, 21000 Dijon, France\", (47.322166442871094, 5.037889003753662)), \n",
    "(\"15 Boulevard de la Croisette, 06407 Cannes, France\", (43.5514204, 7.0216248)), \n",
    "(\"3 Rue St-Rome, 31000 Toulouse, France\", (43.60270690917969, 1.44353449344635)), \n",
    "(\"11 Avenue Jean Médecin, 06000 Nice, France\", (43.698753356933594, 7.269191265106201)))"
   ]
  }
 ],
 "metadata": {
  "kernelspec": {
   "display_name": "base",
   "language": "python",
   "name": "python3"
  },
  "language_info": {
   "codemirror_mode": {
    "name": "ipython",
    "version": 3
   },
   "file_extension": ".py",
   "mimetype": "text/x-python",
   "name": "python",
   "nbconvert_exporter": "python",
   "pygments_lexer": "ipython3",
   "version": "3.12.6"
  }
 },
 "nbformat": 4,
 "nbformat_minor": 2
}
