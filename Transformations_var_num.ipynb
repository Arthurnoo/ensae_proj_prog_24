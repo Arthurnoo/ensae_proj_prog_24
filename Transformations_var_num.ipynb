{
 "cells": [
  {
   "cell_type": "markdown",
   "metadata": {},
   "source": [
    "# Transformation des variables text en num\n",
    "\n",
    "**Ce code est destiné à transformer les réponses de l'utilisateur qui peuvent être à la fois numérique mais aussi textuelles en variables numériques.**"
   ]
  },
  {
   "cell_type": "markdown",
   "metadata": {},
   "source": [
    "Voici les variables que nous récupérons des réponses de l'utilisateur : \n",
    "- Nom\n",
    "- Prénom\n",
    "- Adresse\n",
    "- Distance du festival\n",
    "- Date\n",
    "- Catégorie de festival\n",
    "- Sous-catégorie\n",
    "- Taille du festival souhaité\n",
    "- Budget\n",
    "- Durée du festival"
   ]
  },
  {
   "cell_type": "markdown",
   "metadata": {},
   "source": [
    "## 1. Adresse\n",
    "\n",
    "**Le premier objectif est de transformer l'adresse postale en coordonnées géographqiues**\n",
    "\n",
    "Le code est récupéré du site officiel de data.gouv pour réaliser la requête API : https://guides.data.gouv.fr/reutiliser-des-donnees/utiliser-les-api-geographiques/utiliser-lapi-adresse/geocoder-des-adresses-pratique.\n",
    "Cela nous permet de transformer l'adresse postale au format : Numéro de rue Type de rue Nom de la rue Ville Pays Code postal (5 Avenue Le Chatelier Palaiseau France 91120)"
   ]
  },
  {
   "cell_type": "code",
   "execution_count": null,
   "metadata": {},
   "outputs": [
    {
     "name": "stdout",
     "output_type": "stream",
     "text": [
      "{'label': '24 Rue des diables bleus 73000 Chambéry', 'score': 0.9657545454545454, 'housenumber': '24', 'id': '73065_1110_00024', 'name': '24 Rue des diables bleus', 'postcode': '73000', 'citycode': '73065', 'x': 927213.22, 'y': 6501342.72, 'city': 'Chambéry', 'context': '73, Savoie, Auvergne-Rhône-Alpes', 'type': 'housenumber', 'importance': 0.6233, 'street': 'Rue des diables bleus', 'lon': 5.91394, 'lat': 45.573853}\n"
     ]
    }
   ],
   "source": [
    "import requests\n",
    "ADDOK_URL = 'http://api-adresse.data.gouv.fr/search/'\n",
    "params = {\n",
    "    'q': '24 Rue des Diables Bleus 73000 Chambéry',\n",
    "    'limit': 5\n",
    "}\n",
    "response = requests.get(ADDOK_URL, params=params)\n",
    "j = response.json()\n",
    "if len(j.get('features')) > 0:\n",
    "    first_result = j.get('features')[0]\n",
    "    lon, lat = first_result.get('geometry').get('coordinates')\n",
    "    first_result_all_infos = { **first_result.get('properties'), **{\"lon\": lon, \"lat\": lat}}\n",
    "    print(first_result_all_infos)\n",
    "else:\n",
    "    print('No result')"
   ]
  },
  {
   "cell_type": "markdown",
   "metadata": {},
   "source": [
    "On améliore le code pour qu'il corresponde plus à nos demandes, à savoir retourner uniquement les coordonnées géographiques. On gère aussi les erreurs possibles et on utilise ce code comme une fonction."
   ]
  },
  {
   "cell_type": "code",
   "execution_count": 2,
   "metadata": {},
   "outputs": [],
   "source": [
    "import requests\n",
    "\n",
    "def adresse_to_coordgeo(adresse):\n",
    "    \"\"\"Convertit une adresse en coordonnées géographiques en utilisant l'API de DataGouv.\"\"\"\n",
    "    ADDOK_URL = 'http://api-adresse.data.gouv.fr/search/'\n",
    "    params = {\n",
    "        'q': adresse,\n",
    "        'limit': 1  # On ne veut que le premier résultat\n",
    "    }\n",
    "    \n",
    "    try:\n",
    "        response = requests.get(ADDOK_URL, params=params)\n",
    "        response.raise_for_status()  # Vérifie que la requête a réussi\n",
    "        j = response.json()\n",
    "        \n",
    "        # Vérifier si des résultats ont été trouvés\n",
    "        if len(j.get('features')) > 0:\n",
    "            first_result = j.get('features')[0]\n",
    "            lon, lat = first_result.get('geometry').get('coordinates')\n",
    "            first_result_all_infos = {**first_result.get('properties'), **{\"lon\": lon, \"lat\": lat}}\n",
    "            return (lat, lon)\n",
    "        else:\n",
    "            print('No result')\n",
    "            return None\n",
    "    except requests.exceptions.RequestException as e:\n",
    "        print(f\"Erreur lors de l'appel à l'API : {e}\")\n",
    "        return None"
   ]
  },
  {
   "cell_type": "code",
   "execution_count": 3,
   "metadata": {},
   "outputs": [
    {
     "data": {
      "text/plain": [
       "(48.711413, 2.207679)"
      ]
     },
     "execution_count": 3,
     "metadata": {},
     "output_type": "execute_result"
    }
   ],
   "source": [
    "adresse_to_coordgeo('5 Avenue Le Chatelier Palaiseau France 91120')"
   ]
  },
  {
   "cell_type": "markdown",
   "metadata": {},
   "source": [
    "On vérifie pour 10 adresses que les coordonnés géographiques sont justes : "
   ]
  },
  {
   "cell_type": "code",
   "execution_count": null,
   "metadata": {},
   "outputs": [],
   "source": [
    "Adresses = {\n",
    "    \"24 Rue des Diables Bleus, 73000 Chambéry, France\": (45.574069, 5.914342),\n",
    "    \"5 Avenue Victor Hugo, 75016 Paris, France\": (48.868942, 2.283629),\n",
    "    \"10 Place de la Bourse, 33000 Bordeaux, France\": (44.841354, -0.570416),\n",
    "    \"17 Rue Saint-Nicolas, 54000 Nancy, France\": (48.688457, 6.186303),\n",
    "    \"12 Rue du Château, 44000 Nantes, France\": (47.216293, -1.551646),\n",
    "    \"8 Rue de la Poulaillerie, 69002 Lyon, France\": (45.764228, 4.833735),\n",
    "    \"7 Rue de la Liberté, 21000 Dijon, France\": (47.322166, 5.037889),\n",
    "    \"15 Boulevard de la Croisette, 06407 Cannes, France\": (43.551420, 7.021624),\n",
    "    \"3 Rue St-Rome, 31000 Toulouse, France\": (43.602706, 1.443534),\n",
    "    \"11 Avenue Jean Médecin, 06000 Nice, France\": (43.698753, 7.269191)\n",
    "}"
   ]
  },
  {
   "cell_type": "code",
   "execution_count": null,
   "metadata": {},
   "outputs": [
    {
     "name": "stdout",
     "output_type": "stream",
     "text": [
      "Correct pour : 24 Rue des Diables Bleus, 73000 Chambéry, France\n",
      "Faux pour : 5 Avenue Victor Hugo, 75016 Paris, France\n",
      "Correct pour : 10 Place de la Bourse, 33000 Bordeaux, France\n",
      "Faux pour : 17 Rue Saint-Nicolas, 54000 Nancy, France\n",
      "Correct pour : 12 Rue du Château, 44000 Nantes, France\n",
      "Correct pour : 8 Rue de la Poulaillerie, 69002 Lyon, France\n",
      "Correct pour : 7 Rue de la Liberté, 21000 Dijon, France\n",
      "Correct pour : 15 Boulevard de la Croisette, 06407 Cannes, France\n",
      "Correct pour : 3 Rue St-Rome, 31000 Toulouse, France\n",
      "Correct pour : 11 Avenue Jean Médecin, 06000 Nice, France\n"
     ]
    }
   ],
   "source": [
    "def arrondir_coordonnees(coord, precision=2):\n",
    "    \"\"\"Arrondir une coordonnée à une certaine précision (décimales)\"\"\"\n",
    "    return round(coord, precision)\n",
    "\n",
    "for adresse in Adresses.keys():\n",
    "    # Obtenir les coordonnées réelles\n",
    "    lat_connue, lon_connue = Adresses[adresse]\n",
    "    \n",
    "    # Obtenir les coordonnées via la fonction adresse_to_coordgeo()\n",
    "    coords = adresse_to_coordgeo(adresse)\n",
    "    \n",
    "    if coords:\n",
    "        lat_obtenue, lon_obtenue = coords\n",
    "\n",
    "        # Arrondir les deux ensembles de coordonnées\n",
    "        lat_connue_arr = arrondir_coordonnees(lat_connue)\n",
    "        lon_connue_arr = arrondir_coordonnees(lon_connue)\n",
    "        lat_obtenue_arr = arrondir_coordonnees(lat_obtenue)\n",
    "        lon_obtenue_arr = arrondir_coordonnees(lon_obtenue)\n",
    "        \n",
    "        # Vérifier si les coordonnées correspondent après arrondi\n",
    "        if (lat_connue_arr, lon_connue_arr) != (lat_obtenue_arr, lon_obtenue_arr):\n",
    "            print(f\"Faux pour : {adresse}\")\n",
    "        else:\n",
    "            print(f\"Correct pour : {adresse}\")\n",
    "    else:\n",
    "        print(f\"Aucune coordonnée trouvée pour : {adresse}\")"
   ]
  },
  {
   "cell_type": "markdown",
   "metadata": {},
   "source": [
    "On remarque que pour certaines adresses, on retrouve des différences. Heureusement pour nous, ces différences sont seulement au centième près. Cela représente une distance de 1km environ, ce qui ne pose pas énormément de problèmes dans notre cas. Je pense même que le problème vient des données du dictionnaire Adresses. Les données que je vais récupérer ne sont pas totalement justes."
   ]
  },
  {
   "cell_type": "markdown",
   "metadata": {},
   "source": [
    "**Le deuxième objectif est de calculer la distance entre 2 points, qui sont l'adresse de l'utilisateur et l'adresse du festival**\n",
    "\n",
    "Pour ce faire, nous allons utiliser la formule : **Distance de haversine**.\n",
    "\n",
    "$$\n",
    "d = 2R \\cdot \\arcsin\\left(\\sqrt{\\sin^2\\left(\\frac{\\Delta \\text{lat}}{2}\\right) + \\cos(\\text{lat}_1) \\cdot \\cos(\\text{lat}_2) \\cdot \\sin^2\\left(\\frac{\\Delta \\text{lon}}{2}\\right)}\\right)\n",
    "$$\n",
    "\n",
    "$$\n",
    "\\begin{aligned}\n",
    "d & : \\text{ distance entre les deux points (en mètres)} \\\\\n",
    "R & : \\text{ rayon de la Terre} \\\\\n",
    "\\text{lat}_1, \\text{lon}_1 & : \\text{ latitude et longitude du premier point} \\\\\n",
    "\\text{lat}_2, \\text{lon}_2 & : \\text{ latitude et longitude du second point} \\\\\n",
    "\\Delta \\text{lat} & = \\text{lat}_2 - \\text{lat}_1 : \\text{ différence de latitude} \\\\\n",
    "\\Delta \\text{lon} & = \\text{lon}_2 - \\text{lon}_1 : \\text{ différence de longitude}\n",
    "\\end{aligned}\n",
    "$$\n",
    "\n"
   ]
  },
  {
   "cell_type": "code",
   "execution_count": null,
   "metadata": {},
   "outputs": [
    {
     "name": "stdout",
     "output_type": "stream",
     "text": [
      "La distance entre Paris et Lyon est de 391280.45 mètres.\n"
     ]
    }
   ],
   "source": [
    "from math import *\n",
    "def distance_haversine(loc1, loc2):\n",
    "    lat1, lon1 = loc1\n",
    "    lat2, lon2 = loc2\n",
    "    lat1_rad = math.radians(lat1)\n",
    "    lon1_rad = math.radians(lon1)\n",
    "    lat2_rad = math.radians(lat2)\n",
    "    lon2_rad = math.radians(lon2)\n",
    "    delta_lat = lat2_rad - lat1_rad\n",
    "    delta_lon = lon2_rad - lon1_rad\n",
    "\n",
    "    R = (6378137 + 6356752)/2 #On prend la moyenne entre le rayon équatorial et le rayon polaire\n",
    "    d = 2 * R * atan2(sqrt(sin(delta_lat / 2)**2 + cos(lat1_rad) * cos(lat2_rad) * sin(delta_lon / 2)**2), \n",
    "                      sqrt(1 - (sin(delta_lat / 2)**2 + cos(lat1_rad) * cos(lat2_rad) * sin(delta_lon / 2)**2)))\n",
    "\n",
    "    return d"
   ]
  },
  {
   "cell_type": "markdown",
   "metadata": {},
   "source": [
    "On connait désormais la distance entre 2 points. Le problème est que c'est la distance à vol d'oiseau. On reste pour le moment sur cette méthode pour vérifier si la festival est assez proche de l'adresse de la personne."
   ]
  },
  {
   "cell_type": "markdown",
   "metadata": {},
   "source": [
    "On implémente un nouveau code pour vérifier si le festival est à une distance inférieure à une distance limite."
   ]
  },
  {
   "cell_type": "code",
   "execution_count": null,
   "metadata": {},
   "outputs": [
    {
     "data": {
      "text/plain": [
       "False"
      ]
     },
     "execution_count": 4,
     "metadata": {},
     "output_type": "execute_result"
    }
   ],
   "source": [
    "def distance_valid(distance, limit):\n",
    "    if distance <= limit :\n",
    "        return True\n",
    "    return False\n",
    "\n",
    "\n",
    "distance_valid(50, 40)"
   ]
  }
 ],
 "metadata": {
  "kernelspec": {
   "display_name": "base",
   "language": "python",
   "name": "python3"
  },
  "language_info": {
   "codemirror_mode": {
    "name": "ipython",
    "version": 3
   },
   "file_extension": ".py",
   "mimetype": "text/x-python",
   "name": "python",
   "nbconvert_exporter": "python",
   "pygments_lexer": "ipython3",
   "version": "3.12.6"
  }
 },
 "nbformat": 4,
 "nbformat_minor": 2
}
