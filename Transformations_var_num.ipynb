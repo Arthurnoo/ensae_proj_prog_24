{
 "cells": [
  {
   "cell_type": "markdown",
   "metadata": {},
   "source": [
    "# Transformation des variables text en num\n",
    "\n",
    "### Ce code est destiné à transformer les réponses de l'utilisateur qui peuvent être à la fois numérique mais aussi textuelles en variables numériques."
   ]
  },
  {
   "cell_type": "markdown",
   "metadata": {},
   "source": [
    "Voici les variables que nous récupérons des réponses de l'utilisateur : \n",
    "- Nom\n",
    "- Prénom\n",
    "- Adresse\n",
    "- Distance du festival\n",
    "- Date\n",
    "- Catégorie de festival\n",
    "- Sous-catégorie\n",
    "- Taille du festival souhaité\n",
    "- Budget\n",
    "- Durée du festival\n",
    "\n"
   ]
  }
 ],
 "metadata": {
  "language_info": {
   "name": "python"
  }
 },
 "nbformat": 4,
 "nbformat_minor": 2
}
